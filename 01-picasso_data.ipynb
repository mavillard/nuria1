{
 "cells": [
  {
   "cell_type": "markdown",
   "metadata": {},
   "source": [
    "# Picasso"
   ]
  },
  {
   "cell_type": "code",
   "execution_count": 1,
   "metadata": {},
   "outputs": [],
   "source": [
    "import pandas as pd"
   ]
  },
  {
   "cell_type": "markdown",
   "metadata": {},
   "source": [
    "## Loading data"
   ]
  },
  {
   "cell_type": "code",
   "execution_count": 2,
   "metadata": {},
   "outputs": [],
   "source": [
    "picasso_df = pd.read_excel('data/src/Picasso_2000-2018.xlsx')\n",
    "picasso_df.fillna('', inplace=True)"
   ]
  },
  {
   "cell_type": "code",
   "execution_count": 3,
   "metadata": {},
   "outputs": [
    {
     "data": {
      "text/plain": [
       "(10379, 26)"
      ]
     },
     "execution_count": 3,
     "metadata": {},
     "output_type": "execute_result"
    }
   ],
   "source": [
    "picasso_df.shape"
   ]
  },
  {
   "cell_type": "code",
   "execution_count": 4,
   "metadata": {},
   "outputs": [
    {
     "data": {
      "text/html": [
       "<div>\n",
       "<style scoped>\n",
       "    .dataframe tbody tr th:only-of-type {\n",
       "        vertical-align: middle;\n",
       "    }\n",
       "\n",
       "    .dataframe tbody tr th {\n",
       "        vertical-align: top;\n",
       "    }\n",
       "\n",
       "    .dataframe thead th {\n",
       "        text-align: right;\n",
       "    }\n",
       "</style>\n",
       "<table border=\"1\" class=\"dataframe\">\n",
       "  <thead>\n",
       "    <tr style=\"text-align: right;\">\n",
       "      <th></th>\n",
       "      <th>ID</th>\n",
       "      <th>post_type</th>\n",
       "      <th>post_title</th>\n",
       "      <th>place_t</th>\n",
       "      <th>place_r</th>\n",
       "      <th>place_c</th>\n",
       "      <th>start_y</th>\n",
       "      <th>start_m</th>\n",
       "      <th>start_d</th>\n",
       "      <th>end_y</th>\n",
       "      <th>...</th>\n",
       "      <th>xplace_t</th>\n",
       "      <th>xplace_r</th>\n",
       "      <th>xplace_c</th>\n",
       "      <th>xstart_y</th>\n",
       "      <th>xstart_m</th>\n",
       "      <th>xstart_d</th>\n",
       "      <th>xend_y</th>\n",
       "      <th>xend_m</th>\n",
       "      <th>xend_d</th>\n",
       "      <th>xgender</th>\n",
       "    </tr>\n",
       "  </thead>\n",
       "  <tbody>\n",
       "    <tr>\n",
       "      <th>0</th>\n",
       "      <td>108998</td>\n",
       "      <td>exposición</td>\n",
       "      <td>\"European Masterworks. Paintings from the Coll...</td>\n",
       "      <td>Nashville</td>\n",
       "      <td>Tennessee</td>\n",
       "      <td>Estados Unidos</td>\n",
       "      <td>2001</td>\n",
       "      <td>4</td>\n",
       "      <td>8</td>\n",
       "      <td>2001</td>\n",
       "      <td>...</td>\n",
       "      <td>Francia</td>\n",
       "      <td>Francia</td>\n",
       "      <td>Francia</td>\n",
       "      <td>1840</td>\n",
       "      <td>11</td>\n",
       "      <td>14</td>\n",
       "      <td>1926</td>\n",
       "      <td>12</td>\n",
       "      <td>5</td>\n",
       "      <td>Masculino</td>\n",
       "    </tr>\n",
       "    <tr>\n",
       "      <th>1</th>\n",
       "      <td>108998</td>\n",
       "      <td>exposición</td>\n",
       "      <td>\"European Masterworks. Paintings from the Coll...</td>\n",
       "      <td>Nashville</td>\n",
       "      <td>Tennessee</td>\n",
       "      <td>Estados Unidos</td>\n",
       "      <td>2001</td>\n",
       "      <td>4</td>\n",
       "      <td>8</td>\n",
       "      <td>2001</td>\n",
       "      <td>...</td>\n",
       "      <td>Francia</td>\n",
       "      <td>Francia</td>\n",
       "      <td>Francia</td>\n",
       "      <td>1834</td>\n",
       "      <td>7</td>\n",
       "      <td>19</td>\n",
       "      <td>1917</td>\n",
       "      <td>9</td>\n",
       "      <td>27</td>\n",
       "      <td>Masculino</td>\n",
       "    </tr>\n",
       "    <tr>\n",
       "      <th>2</th>\n",
       "      <td>108998</td>\n",
       "      <td>exposición</td>\n",
       "      <td>\"European Masterworks. Paintings from the Coll...</td>\n",
       "      <td>Nashville</td>\n",
       "      <td>Tennessee</td>\n",
       "      <td>Estados Unidos</td>\n",
       "      <td>2001</td>\n",
       "      <td>4</td>\n",
       "      <td>8</td>\n",
       "      <td>2001</td>\n",
       "      <td>...</td>\n",
       "      <td>Italia</td>\n",
       "      <td>Italia</td>\n",
       "      <td>Italia</td>\n",
       "      <td>1519</td>\n",
       "      <td>1</td>\n",
       "      <td>1</td>\n",
       "      <td>1594</td>\n",
       "      <td>5</td>\n",
       "      <td>31</td>\n",
       "      <td>Masculino</td>\n",
       "    </tr>\n",
       "    <tr>\n",
       "      <th>3</th>\n",
       "      <td>108998</td>\n",
       "      <td>exposición</td>\n",
       "      <td>\"European Masterworks. Paintings from the Coll...</td>\n",
       "      <td>Nashville</td>\n",
       "      <td>Tennessee</td>\n",
       "      <td>Estados Unidos</td>\n",
       "      <td>2001</td>\n",
       "      <td>4</td>\n",
       "      <td>8</td>\n",
       "      <td>2001</td>\n",
       "      <td>...</td>\n",
       "      <td>España</td>\n",
       "      <td>España</td>\n",
       "      <td>España</td>\n",
       "      <td>1881</td>\n",
       "      <td>10</td>\n",
       "      <td>25</td>\n",
       "      <td>1973</td>\n",
       "      <td>4</td>\n",
       "      <td>8</td>\n",
       "      <td>Masculino</td>\n",
       "    </tr>\n",
       "    <tr>\n",
       "      <th>4</th>\n",
       "      <td>108998</td>\n",
       "      <td>exposición</td>\n",
       "      <td>\"European Masterworks. Paintings from the Coll...</td>\n",
       "      <td>Nashville</td>\n",
       "      <td>Tennessee</td>\n",
       "      <td>Estados Unidos</td>\n",
       "      <td>2001</td>\n",
       "      <td>4</td>\n",
       "      <td>8</td>\n",
       "      <td>2001</td>\n",
       "      <td>...</td>\n",
       "      <td>Holanda</td>\n",
       "      <td>Holanda</td>\n",
       "      <td>Holanda</td>\n",
       "      <td>1606</td>\n",
       "      <td>7</td>\n",
       "      <td>15</td>\n",
       "      <td>1669</td>\n",
       "      <td>10</td>\n",
       "      <td>4</td>\n",
       "      <td>Masculino</td>\n",
       "    </tr>\n",
       "  </tbody>\n",
       "</table>\n",
       "<p>5 rows × 26 columns</p>\n",
       "</div>"
      ],
      "text/plain": [
       "       ID   post_type                                         post_title  \\\n",
       "0  108998  exposición  \"European Masterworks. Paintings from the Coll...   \n",
       "1  108998  exposición  \"European Masterworks. Paintings from the Coll...   \n",
       "2  108998  exposición  \"European Masterworks. Paintings from the Coll...   \n",
       "3  108998  exposición  \"European Masterworks. Paintings from the Coll...   \n",
       "4  108998  exposición  \"European Masterworks. Paintings from the Coll...   \n",
       "\n",
       "     place_t    place_r         place_c  start_y  start_m  start_d end_y  \\\n",
       "0  Nashville  Tennessee  Estados Unidos     2001        4        8  2001   \n",
       "1  Nashville  Tennessee  Estados Unidos     2001        4        8  2001   \n",
       "2  Nashville  Tennessee  Estados Unidos     2001        4        8  2001   \n",
       "3  Nashville  Tennessee  Estados Unidos     2001        4        8  2001   \n",
       "4  Nashville  Tennessee  Estados Unidos     2001        4        8  2001   \n",
       "\n",
       "     ...     xplace_t xplace_r xplace_c  xstart_y xstart_m xstart_d xend_y  \\\n",
       "0    ...      Francia  Francia  Francia      1840       11       14   1926   \n",
       "1    ...      Francia  Francia  Francia      1834        7       19   1917   \n",
       "2    ...       Italia   Italia   Italia      1519        1        1   1594   \n",
       "3    ...       España   España   España      1881       10       25   1973   \n",
       "4    ...      Holanda  Holanda  Holanda      1606        7       15   1669   \n",
       "\n",
       "  xend_m xend_d    xgender  \n",
       "0     12      5  Masculino  \n",
       "1      9     27  Masculino  \n",
       "2      5     31  Masculino  \n",
       "3      4      8  Masculino  \n",
       "4     10      4  Masculino  \n",
       "\n",
       "[5 rows x 26 columns]"
      ]
     },
     "execution_count": 4,
     "metadata": {},
     "output_type": "execute_result"
    }
   ],
   "source": [
    "picasso_df.head()"
   ]
  },
  {
   "cell_type": "markdown",
   "metadata": {},
   "source": [
    "## Exploring data"
   ]
  },
  {
   "cell_type": "markdown",
   "metadata": {},
   "source": [
    "### Unique values for each column"
   ]
  },
  {
   "cell_type": "code",
   "execution_count": 5,
   "metadata": {},
   "outputs": [
    {
     "name": "stdout",
     "output_type": "stream",
     "text": [
      "ID 1143\n",
      "post_type 1\n",
      "['exposición']\n",
      "post_title 944\n",
      "place_t 295\n",
      "place_r 159\n",
      "place_c 45\n",
      "start_y 19\n",
      "start_m 12\n",
      "start_d 31\n",
      "end_y 21\n",
      "end_m 13\n",
      "end_d 32\n",
      "xkey 8\n",
      "['actor que participa como artista' 'coleccionista prestatario de obras'\n",
      " 'entidad organizadora' 'fuente de información' 'actor comisario'\n",
      " 'catálogo' 'entidad patrocinadora' 'exposición de la que depende']\n",
      "xid 3213\n",
      "xpost_type 5\n",
      "['actor' 'entidad' '' 'catálogo' 'exposición']\n",
      "xpost_title 3198\n",
      "xplace_t 357\n",
      "xplace_r 219\n",
      "xplace_c 82\n",
      "xstart_y 305\n",
      "xstart_m 14\n",
      "xstart_d 33\n",
      "xend_y 257\n",
      "xend_m 14\n",
      "xend_d 33\n",
      "xgender 4\n",
      "['Masculino' '' 'Femenino' 'No declarado']\n"
     ]
    }
   ],
   "source": [
    "for c in picasso_df.columns:\n",
    "    n = picasso_df[c].nunique()\n",
    "    print(c, n)\n",
    "    if n < 10:\n",
    "        print(picasso_df[c].unique())"
   ]
  },
  {
   "cell_type": "markdown",
   "metadata": {},
   "source": [
    "### Same values for 'xplace_t', 'xplace_r', and 'xplace_c'"
   ]
  },
  {
   "cell_type": "code",
   "execution_count": 10,
   "metadata": {},
   "outputs": [],
   "source": [
    "a = b = c = 0\n",
    "for i, row in picasso_df.drop_duplicates('ID')[['place_t' ,'place_r' ,'place_c']].iterrows():\n",
    "    if row['place_t'] == row['place_r'] == row['place_c']:\n",
    "        a += 1\n",
    "    else:\n",
    "        b += 1\n",
    "    c += 1"
   ]
  },
  {
   "cell_type": "code",
   "execution_count": 11,
   "metadata": {},
   "outputs": [
    {
     "data": {
      "text/plain": [
       "0"
      ]
     },
     "execution_count": 11,
     "metadata": {},
     "output_type": "execute_result"
    }
   ],
   "source": [
    "a"
   ]
  },
  {
   "cell_type": "code",
   "execution_count": 12,
   "metadata": {},
   "outputs": [
    {
     "data": {
      "text/plain": [
       "1143"
      ]
     },
     "execution_count": 12,
     "metadata": {},
     "output_type": "execute_result"
    }
   ],
   "source": [
    "b"
   ]
  },
  {
   "cell_type": "code",
   "execution_count": 13,
   "metadata": {},
   "outputs": [
    {
     "data": {
      "text/plain": [
       "1143"
      ]
     },
     "execution_count": 13,
     "metadata": {},
     "output_type": "execute_result"
    }
   ],
   "source": [
    "c"
   ]
  },
  {
   "cell_type": "code",
   "execution_count": 14,
   "metadata": {},
   "outputs": [],
   "source": [
    "a = b = c = 0\n",
    "for i, row in picasso_df.drop_duplicates('xid')[['xpost_type', 'xplace_t' ,'xplace_r' ,'xplace_c']].iterrows():\n",
    "    if row['xplace_t'] == row['xplace_r'] == row['xplace_c']:\n",
    "        a += 1\n",
    "    else:\n",
    "        b += 1\n",
    "    c += 1"
   ]
  },
  {
   "cell_type": "code",
   "execution_count": 15,
   "metadata": {},
   "outputs": [
    {
     "data": {
      "text/plain": [
       "2577"
      ]
     },
     "execution_count": 15,
     "metadata": {},
     "output_type": "execute_result"
    }
   ],
   "source": [
    "a"
   ]
  },
  {
   "cell_type": "code",
   "execution_count": 16,
   "metadata": {},
   "outputs": [
    {
     "data": {
      "text/plain": [
       "636"
      ]
     },
     "execution_count": 16,
     "metadata": {},
     "output_type": "execute_result"
    }
   ],
   "source": [
    "b"
   ]
  },
  {
   "cell_type": "code",
   "execution_count": 17,
   "metadata": {},
   "outputs": [
    {
     "data": {
      "text/plain": [
       "3213"
      ]
     },
     "execution_count": 17,
     "metadata": {},
     "output_type": "execute_result"
    }
   ],
   "source": [
    "c"
   ]
  },
  {
   "cell_type": "markdown",
   "metadata": {},
   "source": [
    "### Values for 'xpost_type'"
   ]
  },
  {
   "cell_type": "code",
   "execution_count": 6,
   "metadata": {},
   "outputs": [
    {
     "data": {
      "text/html": [
       "<div>\n",
       "<style scoped>\n",
       "    .dataframe tbody tr th:only-of-type {\n",
       "        vertical-align: middle;\n",
       "    }\n",
       "\n",
       "    .dataframe tbody tr th {\n",
       "        vertical-align: top;\n",
       "    }\n",
       "\n",
       "    .dataframe thead th {\n",
       "        text-align: right;\n",
       "    }\n",
       "</style>\n",
       "<table border=\"1\" class=\"dataframe\">\n",
       "  <thead>\n",
       "    <tr style=\"text-align: right;\">\n",
       "      <th></th>\n",
       "      <th>xkey</th>\n",
       "      <th>xpost_type</th>\n",
       "    </tr>\n",
       "  </thead>\n",
       "  <tbody>\n",
       "    <tr>\n",
       "      <th>61</th>\n",
       "      <td>actor comisario</td>\n",
       "      <td>actor</td>\n",
       "    </tr>\n",
       "    <tr>\n",
       "      <th>0</th>\n",
       "      <td>actor que participa como artista</td>\n",
       "      <td>actor</td>\n",
       "    </tr>\n",
       "    <tr>\n",
       "      <th>12</th>\n",
       "      <td>actor que participa como artista</td>\n",
       "      <td></td>\n",
       "    </tr>\n",
       "    <tr>\n",
       "      <th>101</th>\n",
       "      <td>catálogo</td>\n",
       "      <td>catálogo</td>\n",
       "    </tr>\n",
       "    <tr>\n",
       "      <th>5</th>\n",
       "      <td>coleccionista prestatario de obras</td>\n",
       "      <td>entidad</td>\n",
       "    </tr>\n",
       "    <tr>\n",
       "      <th>238</th>\n",
       "      <td>coleccionista prestatario de obras</td>\n",
       "      <td></td>\n",
       "    </tr>\n",
       "    <tr>\n",
       "      <th>658</th>\n",
       "      <td>coleccionista prestatario de obras</td>\n",
       "      <td>actor</td>\n",
       "    </tr>\n",
       "    <tr>\n",
       "      <th>6</th>\n",
       "      <td>entidad organizadora</td>\n",
       "      <td>entidad</td>\n",
       "    </tr>\n",
       "    <tr>\n",
       "      <th>1317</th>\n",
       "      <td>entidad organizadora</td>\n",
       "      <td></td>\n",
       "    </tr>\n",
       "    <tr>\n",
       "      <th>194</th>\n",
       "      <td>entidad patrocinadora</td>\n",
       "      <td>entidad</td>\n",
       "    </tr>\n",
       "    <tr>\n",
       "      <th>207</th>\n",
       "      <td>exposición de la que depende</td>\n",
       "      <td>exposición</td>\n",
       "    </tr>\n",
       "    <tr>\n",
       "      <th>800</th>\n",
       "      <td>exposición de la que depende</td>\n",
       "      <td></td>\n",
       "    </tr>\n",
       "    <tr>\n",
       "      <th>8</th>\n",
       "      <td>fuente de información</td>\n",
       "      <td>entidad</td>\n",
       "    </tr>\n",
       "    <tr>\n",
       "      <th>6912</th>\n",
       "      <td>fuente de información</td>\n",
       "      <td></td>\n",
       "    </tr>\n",
       "  </tbody>\n",
       "</table>\n",
       "</div>"
      ],
      "text/plain": [
       "                                    xkey  xpost_type\n",
       "61                       actor comisario       actor\n",
       "0       actor que participa como artista       actor\n",
       "12      actor que participa como artista            \n",
       "101                             catálogo    catálogo\n",
       "5     coleccionista prestatario de obras     entidad\n",
       "238   coleccionista prestatario de obras            \n",
       "658   coleccionista prestatario de obras       actor\n",
       "6                   entidad organizadora     entidad\n",
       "1317                entidad organizadora            \n",
       "194                entidad patrocinadora     entidad\n",
       "207         exposición de la que depende  exposición\n",
       "800         exposición de la que depende            \n",
       "8                  fuente de información     entidad\n",
       "6912               fuente de información            "
      ]
     },
     "execution_count": 6,
     "metadata": {},
     "output_type": "execute_result"
    }
   ],
   "source": [
    "picasso_df[['xkey', 'xpost_type']].drop_duplicates().sort_values('xkey')"
   ]
  },
  {
   "cell_type": "code",
   "execution_count": 7,
   "metadata": {},
   "outputs": [
    {
     "data": {
      "text/plain": [
       "2"
      ]
     },
     "execution_count": 7,
     "metadata": {},
     "output_type": "execute_result"
    }
   ],
   "source": [
    "len(picasso_df[(picasso_df.xkey == 'coleccionista prestatario de obras') & (picasso_df.xpost_type == '')])"
   ]
  },
  {
   "cell_type": "code",
   "execution_count": 8,
   "metadata": {},
   "outputs": [
    {
     "data": {
      "text/plain": [
       "33"
      ]
     },
     "execution_count": 8,
     "metadata": {},
     "output_type": "execute_result"
    }
   ],
   "source": [
    "len(picasso_df[(picasso_df.xkey == 'coleccionista prestatario de obras') & (picasso_df.xpost_type == 'actor')])"
   ]
  },
  {
   "cell_type": "code",
   "execution_count": 9,
   "metadata": {},
   "outputs": [
    {
     "data": {
      "text/plain": [
       "246"
      ]
     },
     "execution_count": 9,
     "metadata": {},
     "output_type": "execute_result"
    }
   ],
   "source": [
    "len(picasso_df[(picasso_df.xkey == 'coleccionista prestatario de obras') & (picasso_df.xpost_type == 'entidad')])"
   ]
  },
  {
   "cell_type": "markdown",
   "metadata": {},
   "source": [
    "## Completing 'xpost_type'"
   ]
  },
  {
   "cell_type": "code",
   "execution_count": 18,
   "metadata": {},
   "outputs": [],
   "source": [
    "for i, row in picasso_df[picasso_df.xpost_type == ''].iterrows():\n",
    "    if row.xkey == 'actor que participa como artista':\n",
    "        picasso_df.loc[i, 'xpost_type'] = 'actor'\n",
    "    elif row.xkey == 'coleccionista prestatario de obras':\n",
    "        picasso_df.loc[i, 'xpost_type'] = 'entidad'\n",
    "    elif row.xkey == 'entidad organizadora':\n",
    "        picasso_df.loc[i, 'xpost_type'] = 'entidad'\n",
    "    elif row.xkey == 'exposición de la que depende':\n",
    "        picasso_df.loc[i, 'xpost_type'] = 'exposición'\n",
    "    elif row.xkey == 'fuente de información':\n",
    "        picasso_df.loc[i, 'xpost_type'] = 'entidad'"
   ]
  },
  {
   "cell_type": "code",
   "execution_count": 19,
   "metadata": {},
   "outputs": [
    {
     "data": {
      "text/html": [
       "<div>\n",
       "<style scoped>\n",
       "    .dataframe tbody tr th:only-of-type {\n",
       "        vertical-align: middle;\n",
       "    }\n",
       "\n",
       "    .dataframe tbody tr th {\n",
       "        vertical-align: top;\n",
       "    }\n",
       "\n",
       "    .dataframe thead th {\n",
       "        text-align: right;\n",
       "    }\n",
       "</style>\n",
       "<table border=\"1\" class=\"dataframe\">\n",
       "  <thead>\n",
       "    <tr style=\"text-align: right;\">\n",
       "      <th></th>\n",
       "      <th>xkey</th>\n",
       "      <th>xpost_type</th>\n",
       "    </tr>\n",
       "  </thead>\n",
       "  <tbody>\n",
       "    <tr>\n",
       "      <th>61</th>\n",
       "      <td>actor comisario</td>\n",
       "      <td>actor</td>\n",
       "    </tr>\n",
       "    <tr>\n",
       "      <th>0</th>\n",
       "      <td>actor que participa como artista</td>\n",
       "      <td>actor</td>\n",
       "    </tr>\n",
       "    <tr>\n",
       "      <th>101</th>\n",
       "      <td>catálogo</td>\n",
       "      <td>catálogo</td>\n",
       "    </tr>\n",
       "    <tr>\n",
       "      <th>5</th>\n",
       "      <td>coleccionista prestatario de obras</td>\n",
       "      <td>entidad</td>\n",
       "    </tr>\n",
       "    <tr>\n",
       "      <th>658</th>\n",
       "      <td>coleccionista prestatario de obras</td>\n",
       "      <td>actor</td>\n",
       "    </tr>\n",
       "    <tr>\n",
       "      <th>6</th>\n",
       "      <td>entidad organizadora</td>\n",
       "      <td>entidad</td>\n",
       "    </tr>\n",
       "    <tr>\n",
       "      <th>194</th>\n",
       "      <td>entidad patrocinadora</td>\n",
       "      <td>entidad</td>\n",
       "    </tr>\n",
       "    <tr>\n",
       "      <th>207</th>\n",
       "      <td>exposición de la que depende</td>\n",
       "      <td>exposición</td>\n",
       "    </tr>\n",
       "    <tr>\n",
       "      <th>8</th>\n",
       "      <td>fuente de información</td>\n",
       "      <td>entidad</td>\n",
       "    </tr>\n",
       "  </tbody>\n",
       "</table>\n",
       "</div>"
      ],
      "text/plain": [
       "                                   xkey  xpost_type\n",
       "61                      actor comisario       actor\n",
       "0      actor que participa como artista       actor\n",
       "101                            catálogo    catálogo\n",
       "5    coleccionista prestatario de obras     entidad\n",
       "658  coleccionista prestatario de obras       actor\n",
       "6                  entidad organizadora     entidad\n",
       "194               entidad patrocinadora     entidad\n",
       "207        exposición de la que depende  exposición\n",
       "8                 fuente de información     entidad"
      ]
     },
     "execution_count": 19,
     "metadata": {},
     "output_type": "execute_result"
    }
   ],
   "source": [
    "picasso_df[['xkey', 'xpost_type']].drop_duplicates().sort_values('xkey')"
   ]
  },
  {
   "cell_type": "markdown",
   "metadata": {},
   "source": [
    "## Stats"
   ]
  },
  {
   "cell_type": "code",
   "execution_count": 20,
   "metadata": {},
   "outputs": [
    {
     "data": {
      "text/plain": [
       "actor que participa como artista      6985\n",
       "entidad organizadora                  1220\n",
       "fuente de información                  872\n",
       "actor comisario                        754\n",
       "coleccionista prestatario de obras     281\n",
       "exposición de la que depende           153\n",
       "entidad patrocinadora                   66\n",
       "catálogo                                48\n",
       "Name: xkey, dtype: int64"
      ]
     },
     "execution_count": 20,
     "metadata": {},
     "output_type": "execute_result"
    }
   ],
   "source": [
    "picasso_df.xkey.value_counts()"
   ]
  },
  {
   "cell_type": "code",
   "execution_count": 21,
   "metadata": {},
   "outputs": [
    {
     "data": {
      "text/plain": [
       "actor         2569\n",
       "entidad        500\n",
       "exposición      97\n",
       "catálogo        47\n",
       "Name: xpost_type, dtype: int64"
      ]
     },
     "execution_count": 21,
     "metadata": {},
     "output_type": "execute_result"
    }
   ],
   "source": [
    "picasso_df.drop_duplicates('xid').xpost_type.value_counts()"
   ]
  },
  {
   "cell_type": "code",
   "execution_count": 24,
   "metadata": {},
   "outputs": [],
   "source": [
    "a = b = c = 0\n",
    "exhibition_ids = picasso_df.ID.unique()\n",
    "for x in picasso_df[picasso_df.xpost_type == 'exposición'].xid.unique():\n",
    "    if x in exhibition_ids:\n",
    "        a += 1\n",
    "    else:\n",
    "        b += 1\n",
    "    c += 1"
   ]
  },
  {
   "cell_type": "code",
   "execution_count": 25,
   "metadata": {},
   "outputs": [
    {
     "data": {
      "text/plain": [
       "93"
      ]
     },
     "execution_count": 25,
     "metadata": {},
     "output_type": "execute_result"
    }
   ],
   "source": [
    "a"
   ]
  },
  {
   "cell_type": "code",
   "execution_count": 26,
   "metadata": {},
   "outputs": [
    {
     "data": {
      "text/plain": [
       "4"
      ]
     },
     "execution_count": 26,
     "metadata": {},
     "output_type": "execute_result"
    }
   ],
   "source": [
    "b"
   ]
  },
  {
   "cell_type": "code",
   "execution_count": 27,
   "metadata": {},
   "outputs": [
    {
     "data": {
      "text/plain": [
       "97"
      ]
     },
     "execution_count": 27,
     "metadata": {},
     "output_type": "execute_result"
    }
   ],
   "source": [
    "c"
   ]
  },
  {
   "cell_type": "markdown",
   "metadata": {},
   "source": [
    "## Saving data"
   ]
  },
  {
   "cell_type": "code",
   "execution_count": 23,
   "metadata": {},
   "outputs": [],
   "source": [
    "picasso_df.to_csv('data/out/picasso.csv', index=False)"
   ]
  },
  {
   "cell_type": "code",
   "execution_count": null,
   "metadata": {},
   "outputs": [],
   "source": []
  }
 ],
 "metadata": {
  "kernelspec": {
   "display_name": "Python 3",
   "language": "python",
   "name": "python3"
  },
  "language_info": {
   "codemirror_mode": {
    "name": "ipython",
    "version": 3
   },
   "file_extension": ".py",
   "mimetype": "text/x-python",
   "name": "python",
   "nbconvert_exporter": "python",
   "pygments_lexer": "ipython3",
   "version": "3.5.2"
  }
 },
 "nbformat": 4,
 "nbformat_minor": 2
}
