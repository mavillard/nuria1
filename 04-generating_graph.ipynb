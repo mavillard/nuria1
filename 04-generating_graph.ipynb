{
 "cells": [
  {
   "cell_type": "markdown",
   "metadata": {},
   "source": [
    "# Exhibitions"
   ]
  },
  {
   "cell_type": "code",
   "execution_count": 1,
   "metadata": {},
   "outputs": [],
   "source": [
    "import networkx as nx\n",
    "import pandas as pd"
   ]
  },
  {
   "cell_type": "markdown",
   "metadata": {},
   "source": [
    "## Loading data"
   ]
  },
  {
   "cell_type": "code",
   "execution_count": 2,
   "metadata": {},
   "outputs": [
    {
     "name": "stdout",
     "output_type": "stream",
     "text": [
      "CPU times: user 840 ms, sys: 184 ms, total: 1.02 s\n",
      "Wall time: 1.02 s\n"
     ]
    }
   ],
   "source": [
    "%%time\n",
    "\n",
    "exhibitions_df = pd.read_csv('data/out/exhibitions.csv')\n",
    "exhibitions_df.fillna('', inplace=True)"
   ]
  },
  {
   "cell_type": "code",
   "execution_count": 3,
   "metadata": {},
   "outputs": [
    {
     "data": {
      "text/plain": [
       "(72740, 26)"
      ]
     },
     "execution_count": 3,
     "metadata": {},
     "output_type": "execute_result"
    }
   ],
   "source": [
    "exhibitions_df.shape"
   ]
  },
  {
   "cell_type": "code",
   "execution_count": 4,
   "metadata": {},
   "outputs": [
    {
     "data": {
      "text/html": [
       "<div>\n",
       "<style scoped>\n",
       "    .dataframe tbody tr th:only-of-type {\n",
       "        vertical-align: middle;\n",
       "    }\n",
       "\n",
       "    .dataframe tbody tr th {\n",
       "        vertical-align: top;\n",
       "    }\n",
       "\n",
       "    .dataframe thead th {\n",
       "        text-align: right;\n",
       "    }\n",
       "</style>\n",
       "<table border=\"1\" class=\"dataframe\">\n",
       "  <thead>\n",
       "    <tr style=\"text-align: right;\">\n",
       "      <th></th>\n",
       "      <th>ID</th>\n",
       "      <th>post_type</th>\n",
       "      <th>post_title</th>\n",
       "      <th>place_t</th>\n",
       "      <th>place_r</th>\n",
       "      <th>place_c</th>\n",
       "      <th>start_y</th>\n",
       "      <th>start_m</th>\n",
       "      <th>start_d</th>\n",
       "      <th>end_y</th>\n",
       "      <th>...</th>\n",
       "      <th>xplace_t</th>\n",
       "      <th>xplace_r</th>\n",
       "      <th>xplace_c</th>\n",
       "      <th>xstart_y</th>\n",
       "      <th>xstart_m</th>\n",
       "      <th>xstart_d</th>\n",
       "      <th>xend_y</th>\n",
       "      <th>xend_m</th>\n",
       "      <th>xend_d</th>\n",
       "      <th>xgender</th>\n",
       "    </tr>\n",
       "  </thead>\n",
       "  <tbody>\n",
       "    <tr>\n",
       "      <th>0</th>\n",
       "      <td>117998</td>\n",
       "      <td>exposición</td>\n",
       "      <td>\"Elizabeth Blackwell\", Carmen Oliver</td>\n",
       "      <td>Granada</td>\n",
       "      <td>Andalucía</td>\n",
       "      <td>España</td>\n",
       "      <td>2017</td>\n",
       "      <td>3</td>\n",
       "      <td>1</td>\n",
       "      <td>2017</td>\n",
       "      <td>...</td>\n",
       "      <td>España</td>\n",
       "      <td>España</td>\n",
       "      <td>España</td>\n",
       "      <td>1985</td>\n",
       "      <td>1</td>\n",
       "      <td>1</td>\n",
       "      <td></td>\n",
       "      <td></td>\n",
       "      <td></td>\n",
       "      <td>Femenino</td>\n",
       "    </tr>\n",
       "    <tr>\n",
       "      <th>1</th>\n",
       "      <td>117998</td>\n",
       "      <td>exposición</td>\n",
       "      <td>\"Elizabeth Blackwell\", Carmen Oliver</td>\n",
       "      <td>Granada</td>\n",
       "      <td>Andalucía</td>\n",
       "      <td>España</td>\n",
       "      <td>2017</td>\n",
       "      <td>3</td>\n",
       "      <td>1</td>\n",
       "      <td>2017</td>\n",
       "      <td>...</td>\n",
       "      <td>Granada</td>\n",
       "      <td>Andalucía</td>\n",
       "      <td>España</td>\n",
       "      <td>2017</td>\n",
       "      <td>1</td>\n",
       "      <td>1</td>\n",
       "      <td></td>\n",
       "      <td></td>\n",
       "      <td></td>\n",
       "      <td>NO APLICA</td>\n",
       "    </tr>\n",
       "    <tr>\n",
       "      <th>2</th>\n",
       "      <td>117998</td>\n",
       "      <td>exposición</td>\n",
       "      <td>\"Elizabeth Blackwell\", Carmen Oliver</td>\n",
       "      <td>Granada</td>\n",
       "      <td>Andalucía</td>\n",
       "      <td>España</td>\n",
       "      <td>2017</td>\n",
       "      <td>3</td>\n",
       "      <td>1</td>\n",
       "      <td>2017</td>\n",
       "      <td>...</td>\n",
       "      <td>Granada</td>\n",
       "      <td>Andalucía</td>\n",
       "      <td>España</td>\n",
       "      <td></td>\n",
       "      <td></td>\n",
       "      <td></td>\n",
       "      <td></td>\n",
       "      <td></td>\n",
       "      <td></td>\n",
       "      <td>NO APLICA</td>\n",
       "    </tr>\n",
       "    <tr>\n",
       "      <th>3</th>\n",
       "      <td>117998</td>\n",
       "      <td>exposición</td>\n",
       "      <td>\"Elizabeth Blackwell\", Carmen Oliver</td>\n",
       "      <td>Granada</td>\n",
       "      <td>Andalucía</td>\n",
       "      <td>España</td>\n",
       "      <td>2017</td>\n",
       "      <td>3</td>\n",
       "      <td>1</td>\n",
       "      <td>2017</td>\n",
       "      <td>...</td>\n",
       "      <td>Granada</td>\n",
       "      <td>Andalucía</td>\n",
       "      <td>España</td>\n",
       "      <td></td>\n",
       "      <td></td>\n",
       "      <td></td>\n",
       "      <td></td>\n",
       "      <td></td>\n",
       "      <td></td>\n",
       "      <td>NO APLICA</td>\n",
       "    </tr>\n",
       "    <tr>\n",
       "      <th>4</th>\n",
       "      <td>108998</td>\n",
       "      <td>exposición</td>\n",
       "      <td>\"European Masterworks. Paintings from the Coll...</td>\n",
       "      <td>Nashville</td>\n",
       "      <td>Tennessee</td>\n",
       "      <td>Estados Unidos</td>\n",
       "      <td>2001</td>\n",
       "      <td>4</td>\n",
       "      <td>8</td>\n",
       "      <td>2001</td>\n",
       "      <td>...</td>\n",
       "      <td>Francia</td>\n",
       "      <td>Francia</td>\n",
       "      <td>Francia</td>\n",
       "      <td>1840</td>\n",
       "      <td>11</td>\n",
       "      <td>14</td>\n",
       "      <td>1926</td>\n",
       "      <td>12</td>\n",
       "      <td>5</td>\n",
       "      <td>Masculino</td>\n",
       "    </tr>\n",
       "  </tbody>\n",
       "</table>\n",
       "<p>5 rows × 26 columns</p>\n",
       "</div>"
      ],
      "text/plain": [
       "       ID   post_type                                         post_title  \\\n",
       "0  117998  exposición               \"Elizabeth Blackwell\", Carmen Oliver   \n",
       "1  117998  exposición               \"Elizabeth Blackwell\", Carmen Oliver   \n",
       "2  117998  exposición               \"Elizabeth Blackwell\", Carmen Oliver   \n",
       "3  117998  exposición               \"Elizabeth Blackwell\", Carmen Oliver   \n",
       "4  108998  exposición  \"European Masterworks. Paintings from the Coll...   \n",
       "\n",
       "     place_t    place_r         place_c start_y start_m start_d end_y  \\\n",
       "0    Granada  Andalucía          España    2017       3       1  2017   \n",
       "1    Granada  Andalucía          España    2017       3       1  2017   \n",
       "2    Granada  Andalucía          España    2017       3       1  2017   \n",
       "3    Granada  Andalucía          España    2017       3       1  2017   \n",
       "4  Nashville  Tennessee  Estados Unidos    2001       4       8  2001   \n",
       "\n",
       "     ...     xplace_t   xplace_r xplace_c  xstart_y xstart_m xstart_d xend_y  \\\n",
       "0    ...       España     España   España      1985        1        1          \n",
       "1    ...      Granada  Andalucía   España      2017        1        1          \n",
       "2    ...      Granada  Andalucía   España                                      \n",
       "3    ...      Granada  Andalucía   España                                      \n",
       "4    ...      Francia    Francia  Francia      1840       11       14   1926   \n",
       "\n",
       "  xend_m xend_d    xgender  \n",
       "0                 Femenino  \n",
       "1                NO APLICA  \n",
       "2                NO APLICA  \n",
       "3                NO APLICA  \n",
       "4     12      5  Masculino  \n",
       "\n",
       "[5 rows x 26 columns]"
      ]
     },
     "execution_count": 4,
     "metadata": {},
     "output_type": "execute_result"
    }
   ],
   "source": [
    "exhibitions_df.head()"
   ]
  },
  {
   "cell_type": "markdown",
   "metadata": {},
   "source": [
    "## Exploring values by type"
   ]
  },
  {
   "cell_type": "code",
   "execution_count": 5,
   "metadata": {},
   "outputs": [
    {
     "name": "stdout",
     "output_type": "stream",
     "text": [
      "actor\n",
      "[Sin determinar]                 1272\n",
      "Pablo Ruiz Picasso               1147\n",
      "Colectivo sin determinar          172\n",
      "Joan Miró                         126\n",
      "Francisco de Goya y Lucientes     118\n",
      "Name: xpost_title, dtype: int64\n",
      "\n",
      "catálogo\n",
      "Desconocido                       6\n",
      "El Paisaje nórdico en el Prado    5\n",
      "Arqueología preventiva            4\n",
      "Heroínas                          2\n",
      "Fábulas                           2\n",
      "Name: xpost_title, dtype: int64\n",
      "\n",
      "entidad\n",
      "Diputación de Málaga                    522\n",
      "Sala Aires                              460\n",
      "Museo Nacional del Prado                370\n",
      "Centro Andaluz de la Fotografía. CAF    341\n",
      "Institut Valencià d'Art Modern          339\n",
      "Name: xpost_title, dtype: int64\n",
      "\n",
      "exposición\n",
      "“Generación del 27 y su época”. Mollina                 17\n",
      "Los Carteles de Miró. Nerja                             11\n",
      "Huelva. La luz dentro del tiempo                         8\n",
      "Modern masters from the Cleveland Museum of Art          8\n",
      "\"Málaga y Cervantes. La espada y la pluma\" en Málaga     8\n",
      "Name: xpost_title, dtype: int64\n",
      "\n",
      "empresa\n",
      "Japón Montajes de Arte S.L     9\n",
      "TUIMAGINA, S.L                 6\n",
      "Artemontaje Exposiciones SL    5\n",
      "3carme33                       2\n",
      "Frade Arquitectos              2\n",
      "Name: xpost_title, dtype: int64\n",
      "\n"
     ]
    }
   ],
   "source": [
    "for t in exhibitions_df.xpost_type.unique():\n",
    "    print(t)\n",
    "    print(exhibitions_df[exhibitions_df.xpost_type == t].xpost_title.value_counts()[:5])\n",
    "    print()"
   ]
  },
  {
   "cell_type": "code",
   "execution_count": 6,
   "metadata": {},
   "outputs": [
    {
     "data": {
      "text/plain": [
       "array([55293])"
      ]
     },
     "execution_count": 6,
     "metadata": {},
     "output_type": "execute_result"
    }
   ],
   "source": [
    "exhibitions_df[exhibitions_df.xpost_title == '[Sin determinar]'].xid.unique()"
   ]
  },
  {
   "cell_type": "code",
   "execution_count": 7,
   "metadata": {},
   "outputs": [
    {
     "data": {
      "text/plain": [
       "array([23812])"
      ]
     },
     "execution_count": 7,
     "metadata": {},
     "output_type": "execute_result"
    }
   ],
   "source": [
    "exhibitions_df[exhibitions_df.xpost_title == 'Colectivo sin determinar'].xid.unique()"
   ]
  },
  {
   "cell_type": "markdown",
   "metadata": {},
   "source": [
    "## Processing data"
   ]
  },
  {
   "cell_type": "code",
   "execution_count": 8,
   "metadata": {},
   "outputs": [],
   "source": [
    "def extract_e_info(row):\n",
    "    return {\n",
    "        'id': row.ID,\n",
    "        'type': row.post_type,\n",
    "        'title': row.post_title,\n",
    "        'place_t': row.place_t,\n",
    "        'place_r': row.place_r,\n",
    "        'place_c': row.place_c,\n",
    "        'start_y': row.start_y,\n",
    "        'start_m': row.start_m,\n",
    "        'start_d': row.start_d,\n",
    "        'end_y': row.end_y,\n",
    "        'end_m': row.end_m,\n",
    "        'end_d': row.end_d,\n",
    "    }\n",
    "\n",
    "def extract_x_info(row):\n",
    "    return {\n",
    "        'id': row.xid,\n",
    "        'type': row.xpost_type,\n",
    "        'title': row.xpost_title,\n",
    "        'place_t': row.xplace_t,\n",
    "        'place_r': row.xplace_r,\n",
    "        'place_c': row.xplace_c,\n",
    "        'start_y': row.xstart_y,\n",
    "        'start_m': row.xstart_m,\n",
    "        'start_d': row.xstart_d,\n",
    "        'end_y': row.xend_y,\n",
    "        'end_m': row.xend_m,\n",
    "        'end_d': row.xend_d,\n",
    "        'gender': row.xgender,\n",
    "    }"
   ]
  },
  {
   "cell_type": "code",
   "execution_count": 9,
   "metadata": {},
   "outputs": [
    {
     "name": "stdout",
     "output_type": "stream",
     "text": [
      "CPU times: user 41.7 s, sys: 72 ms, total: 41.8 s\n",
      "Wall time: 41.8 s\n"
     ]
    }
   ],
   "source": [
    "%%time\n",
    "\n",
    "g = nx.DiGraph()\n",
    "for i, row in exhibitions_df.iterrows():\n",
    "    e = extract_e_info(row)\n",
    "    x = extract_x_info(row)\n",
    "    g.add_node(e['id'], **e)\n",
    "    g.add_node(x['id'], **x)\n",
    "    g.add_edge(e['id'], x['id'], label=row.xkey)"
   ]
  },
  {
   "cell_type": "code",
   "execution_count": 10,
   "metadata": {},
   "outputs": [],
   "source": [
    "g.remove_node(55293) # Removing actor '[Sin determinar]'\n",
    "g.remove_node(23812) # Removing actor 'Colectivo sin determinar'\n",
    "for n, data in list(g.nodes(data=True)): # Removing nodes of type 'catálogo' and 'empresa'\n",
    "    if data['type'] == 'catálogo' or data['type'] == 'empresa':\n",
    "        g.remove_node(n)"
   ]
  },
  {
   "cell_type": "code",
   "execution_count": 11,
   "metadata": {},
   "outputs": [
    {
     "data": {
      "text/plain": [
       "32603"
      ]
     },
     "execution_count": 11,
     "metadata": {},
     "output_type": "execute_result"
    }
   ],
   "source": [
    "g.number_of_nodes()"
   ]
  },
  {
   "cell_type": "code",
   "execution_count": 12,
   "metadata": {},
   "outputs": [
    {
     "data": {
      "text/plain": [
       "62869"
      ]
     },
     "execution_count": 12,
     "metadata": {},
     "output_type": "execute_result"
    }
   ],
   "source": [
    "g.number_of_edges()"
   ]
  },
  {
   "cell_type": "code",
   "execution_count": 13,
   "metadata": {},
   "outputs": [
    {
     "data": {
      "text/plain": [
       "8"
      ]
     },
     "execution_count": 13,
     "metadata": {},
     "output_type": "execute_result"
    }
   ],
   "source": [
    "g.number_of_selfloops()"
   ]
  },
  {
   "cell_type": "code",
   "execution_count": 14,
   "metadata": {},
   "outputs": [],
   "source": [
    "nx.write_gexf(g, 'data/out/exhibitions.gexf')"
   ]
  },
  {
   "cell_type": "code",
   "execution_count": null,
   "metadata": {},
   "outputs": [],
   "source": []
  }
 ],
 "metadata": {
  "kernelspec": {
   "display_name": "Python 3",
   "language": "python",
   "name": "python3"
  },
  "language_info": {
   "codemirror_mode": {
    "name": "ipython",
    "version": 3
   },
   "file_extension": ".py",
   "mimetype": "text/x-python",
   "name": "python",
   "nbconvert_exporter": "python",
   "pygments_lexer": "ipython3",
   "version": "3.5.2"
  }
 },
 "nbformat": 4,
 "nbformat_minor": 2
}
