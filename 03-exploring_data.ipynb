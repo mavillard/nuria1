{
 "cells": [
  {
   "cell_type": "markdown",
   "metadata": {},
   "source": [
    "# Exhibitions"
   ]
  },
  {
   "cell_type": "code",
   "execution_count": 1,
   "metadata": {},
   "outputs": [],
   "source": [
    "from collections import Counter\n",
    "\n",
    "import pandas as pd"
   ]
  },
  {
   "cell_type": "markdown",
   "metadata": {},
   "source": [
    "## Loading data"
   ]
  },
  {
   "cell_type": "code",
   "execution_count": 2,
   "metadata": {},
   "outputs": [
    {
     "name": "stdout",
     "output_type": "stream",
     "text": [
      "CPU times: user 796 ms, sys: 212 ms, total: 1.01 s\n",
      "Wall time: 1.01 s\n"
     ]
    }
   ],
   "source": [
    "%%time\n",
    "\n",
    "exhibitions_df = pd.read_csv('data/out/exhibitions.csv')\n",
    "exhibitions_df.fillna('', inplace=True)"
   ]
  },
  {
   "cell_type": "code",
   "execution_count": 3,
   "metadata": {},
   "outputs": [
    {
     "data": {
      "text/plain": [
       "(72742, 26)"
      ]
     },
     "execution_count": 3,
     "metadata": {},
     "output_type": "execute_result"
    }
   ],
   "source": [
    "exhibitions_df.shape"
   ]
  },
  {
   "cell_type": "code",
   "execution_count": 4,
   "metadata": {},
   "outputs": [
    {
     "data": {
      "text/html": [
       "<div>\n",
       "<style scoped>\n",
       "    .dataframe tbody tr th:only-of-type {\n",
       "        vertical-align: middle;\n",
       "    }\n",
       "\n",
       "    .dataframe tbody tr th {\n",
       "        vertical-align: top;\n",
       "    }\n",
       "\n",
       "    .dataframe thead th {\n",
       "        text-align: right;\n",
       "    }\n",
       "</style>\n",
       "<table border=\"1\" class=\"dataframe\">\n",
       "  <thead>\n",
       "    <tr style=\"text-align: right;\">\n",
       "      <th></th>\n",
       "      <th>ID</th>\n",
       "      <th>post_type</th>\n",
       "      <th>post_title</th>\n",
       "      <th>place_t</th>\n",
       "      <th>place_r</th>\n",
       "      <th>place_c</th>\n",
       "      <th>start_y</th>\n",
       "      <th>start_m</th>\n",
       "      <th>start_d</th>\n",
       "      <th>end_y</th>\n",
       "      <th>...</th>\n",
       "      <th>xplace_t</th>\n",
       "      <th>xplace_r</th>\n",
       "      <th>xplace_c</th>\n",
       "      <th>xstart_y</th>\n",
       "      <th>xstart_m</th>\n",
       "      <th>xstart_d</th>\n",
       "      <th>xend_y</th>\n",
       "      <th>xend_m</th>\n",
       "      <th>xend_d</th>\n",
       "      <th>xgender</th>\n",
       "    </tr>\n",
       "  </thead>\n",
       "  <tbody>\n",
       "    <tr>\n",
       "      <th>0</th>\n",
       "      <td>117998</td>\n",
       "      <td>exposición</td>\n",
       "      <td>\"Elizabeth Blackwell\", Carmen Oliver</td>\n",
       "      <td>Granada</td>\n",
       "      <td>Andalucía</td>\n",
       "      <td>España</td>\n",
       "      <td>2017</td>\n",
       "      <td>3</td>\n",
       "      <td>1</td>\n",
       "      <td>2017</td>\n",
       "      <td>...</td>\n",
       "      <td>España</td>\n",
       "      <td>España</td>\n",
       "      <td>España</td>\n",
       "      <td>1985</td>\n",
       "      <td>1</td>\n",
       "      <td>1</td>\n",
       "      <td></td>\n",
       "      <td></td>\n",
       "      <td></td>\n",
       "      <td>Femenino</td>\n",
       "    </tr>\n",
       "    <tr>\n",
       "      <th>1</th>\n",
       "      <td>117998</td>\n",
       "      <td>exposición</td>\n",
       "      <td>\"Elizabeth Blackwell\", Carmen Oliver</td>\n",
       "      <td>Granada</td>\n",
       "      <td>Andalucía</td>\n",
       "      <td>España</td>\n",
       "      <td>2017</td>\n",
       "      <td>3</td>\n",
       "      <td>1</td>\n",
       "      <td>2017</td>\n",
       "      <td>...</td>\n",
       "      <td>Granada</td>\n",
       "      <td>Andalucía</td>\n",
       "      <td>España</td>\n",
       "      <td>2017</td>\n",
       "      <td>1</td>\n",
       "      <td>1</td>\n",
       "      <td></td>\n",
       "      <td></td>\n",
       "      <td></td>\n",
       "      <td>NO APLICA</td>\n",
       "    </tr>\n",
       "    <tr>\n",
       "      <th>2</th>\n",
       "      <td>117998</td>\n",
       "      <td>exposición</td>\n",
       "      <td>\"Elizabeth Blackwell\", Carmen Oliver</td>\n",
       "      <td>Granada</td>\n",
       "      <td>Andalucía</td>\n",
       "      <td>España</td>\n",
       "      <td>2017</td>\n",
       "      <td>3</td>\n",
       "      <td>1</td>\n",
       "      <td>2017</td>\n",
       "      <td>...</td>\n",
       "      <td>Granada</td>\n",
       "      <td>Andalucía</td>\n",
       "      <td>España</td>\n",
       "      <td></td>\n",
       "      <td></td>\n",
       "      <td></td>\n",
       "      <td></td>\n",
       "      <td></td>\n",
       "      <td></td>\n",
       "      <td>NO APLICA</td>\n",
       "    </tr>\n",
       "    <tr>\n",
       "      <th>3</th>\n",
       "      <td>117998</td>\n",
       "      <td>exposición</td>\n",
       "      <td>\"Elizabeth Blackwell\", Carmen Oliver</td>\n",
       "      <td>Granada</td>\n",
       "      <td>Andalucía</td>\n",
       "      <td>España</td>\n",
       "      <td>2017</td>\n",
       "      <td>3</td>\n",
       "      <td>1</td>\n",
       "      <td>2017</td>\n",
       "      <td>...</td>\n",
       "      <td>Granada</td>\n",
       "      <td>Andalucía</td>\n",
       "      <td>España</td>\n",
       "      <td></td>\n",
       "      <td></td>\n",
       "      <td></td>\n",
       "      <td></td>\n",
       "      <td></td>\n",
       "      <td></td>\n",
       "      <td>NO APLICA</td>\n",
       "    </tr>\n",
       "    <tr>\n",
       "      <th>4</th>\n",
       "      <td>108998</td>\n",
       "      <td>exposición</td>\n",
       "      <td>\"European Masterworks. Paintings from the Coll...</td>\n",
       "      <td>Nashville</td>\n",
       "      <td>Tennessee</td>\n",
       "      <td>Estados Unidos</td>\n",
       "      <td>2001</td>\n",
       "      <td>4</td>\n",
       "      <td>8</td>\n",
       "      <td>2001</td>\n",
       "      <td>...</td>\n",
       "      <td>Francia</td>\n",
       "      <td>Francia</td>\n",
       "      <td>Francia</td>\n",
       "      <td>1840</td>\n",
       "      <td>11</td>\n",
       "      <td>14</td>\n",
       "      <td>1926</td>\n",
       "      <td>12</td>\n",
       "      <td>5</td>\n",
       "      <td>Masculino</td>\n",
       "    </tr>\n",
       "  </tbody>\n",
       "</table>\n",
       "<p>5 rows × 26 columns</p>\n",
       "</div>"
      ],
      "text/plain": [
       "       ID   post_type                                         post_title  \\\n",
       "0  117998  exposición               \"Elizabeth Blackwell\", Carmen Oliver   \n",
       "1  117998  exposición               \"Elizabeth Blackwell\", Carmen Oliver   \n",
       "2  117998  exposición               \"Elizabeth Blackwell\", Carmen Oliver   \n",
       "3  117998  exposición               \"Elizabeth Blackwell\", Carmen Oliver   \n",
       "4  108998  exposición  \"European Masterworks. Paintings from the Coll...   \n",
       "\n",
       "     place_t    place_r         place_c start_y start_m start_d end_y  \\\n",
       "0    Granada  Andalucía          España    2017       3       1  2017   \n",
       "1    Granada  Andalucía          España    2017       3       1  2017   \n",
       "2    Granada  Andalucía          España    2017       3       1  2017   \n",
       "3    Granada  Andalucía          España    2017       3       1  2017   \n",
       "4  Nashville  Tennessee  Estados Unidos    2001       4       8  2001   \n",
       "\n",
       "     ...     xplace_t   xplace_r xplace_c  xstart_y xstart_m xstart_d xend_y  \\\n",
       "0    ...       España     España   España      1985        1        1          \n",
       "1    ...      Granada  Andalucía   España      2017        1        1          \n",
       "2    ...      Granada  Andalucía   España                                      \n",
       "3    ...      Granada  Andalucía   España                                      \n",
       "4    ...      Francia    Francia  Francia      1840       11       14   1926   \n",
       "\n",
       "  xend_m xend_d    xgender  \n",
       "0                 Femenino  \n",
       "1                NO APLICA  \n",
       "2                NO APLICA  \n",
       "3                NO APLICA  \n",
       "4     12      5  Masculino  \n",
       "\n",
       "[5 rows x 26 columns]"
      ]
     },
     "execution_count": 4,
     "metadata": {},
     "output_type": "execute_result"
    }
   ],
   "source": [
    "exhibitions_df.head()"
   ]
  },
  {
   "cell_type": "markdown",
   "metadata": {},
   "source": [
    "## Exploring data"
   ]
  },
  {
   "cell_type": "code",
   "execution_count": 5,
   "metadata": {},
   "outputs": [],
   "source": [
    "important_columns = ['ID', 'post_type', 'post_title', 'xkey', 'xid', 'xpost_type', 'xpost_title']"
   ]
  },
  {
   "cell_type": "markdown",
   "metadata": {},
   "source": [
    "### Unique values for important columns"
   ]
  },
  {
   "cell_type": "code",
   "execution_count": 6,
   "metadata": {},
   "outputs": [
    {
     "name": "stdout",
     "output_type": "stream",
     "text": [
      "ID 9577\n",
      "post_type 1\n",
      "['exposición']\n",
      "post_title 9016\n",
      "xkey 9\n",
      "['actor que participa como artista' 'catálogo' 'entidad organizadora'\n",
      " 'fuente de información' 'coleccionista prestatario de obras'\n",
      " 'actor comisario' 'entidad patrocinadora' 'exposición de la que depende'\n",
      " 'empresa que realiza la museografía']\n",
      "xid 23940\n",
      "xpost_type 5\n",
      "['actor' 'catálogo' 'entidad' 'exposición' 'empresa']\n",
      "xpost_title 23786\n"
     ]
    }
   ],
   "source": [
    "for c in important_columns:\n",
    "    n = exhibitions_df[c].nunique()\n",
    "    print(c, n)\n",
    "    if n <= 10:\n",
    "        print(exhibitions_df[c].unique())"
   ]
  },
  {
   "cell_type": "markdown",
   "metadata": {},
   "source": [
    "### Number of unique exhibitions"
   ]
  },
  {
   "cell_type": "code",
   "execution_count": 7,
   "metadata": {},
   "outputs": [
    {
     "data": {
      "text/plain": [
       "9577"
      ]
     },
     "execution_count": 7,
     "metadata": {},
     "output_type": "execute_result"
    }
   ],
   "source": [
    "exhibitions_df.ID.nunique()"
   ]
  },
  {
   "cell_type": "markdown",
   "metadata": {},
   "source": [
    "### Number of related elements"
   ]
  },
  {
   "cell_type": "code",
   "execution_count": 8,
   "metadata": {},
   "outputs": [
    {
     "data": {
      "text/plain": [
       "23940"
      ]
     },
     "execution_count": 8,
     "metadata": {},
     "output_type": "execute_result"
    }
   ],
   "source": [
    "exhibitions_df.xid.nunique()"
   ]
  },
  {
   "cell_type": "markdown",
   "metadata": {},
   "source": [
    "### Number of unique elements for each \"xpost_type\""
   ]
  },
  {
   "cell_type": "code",
   "execution_count": 9,
   "metadata": {},
   "outputs": [
    {
     "data": {
      "text/plain": [
       "23943"
      ]
     },
     "execution_count": 9,
     "metadata": {},
     "output_type": "execute_result"
    }
   ],
   "source": [
    "len(exhibitions_df[['xid', 'xpost_type']].drop_duplicates())"
   ]
  },
  {
   "cell_type": "code",
   "execution_count": 10,
   "metadata": {},
   "outputs": [
    {
     "data": {
      "text/plain": [
       "23940"
      ]
     },
     "execution_count": 10,
     "metadata": {},
     "output_type": "execute_result"
    }
   ],
   "source": [
    "exhibitions_df[['xid', 'xpost_type']].drop_duplicates().xid.nunique()"
   ]
  },
  {
   "cell_type": "code",
   "execution_count": 12,
   "metadata": {},
   "outputs": [
    {
     "data": {
      "text/plain": [
       "-1        2\n",
       " 28487    2\n",
       " 743      2\n",
       " 71677    1\n",
       " 67707    1\n",
       "Name: xid, dtype: int64"
      ]
     },
     "execution_count": 12,
     "metadata": {},
     "output_type": "execute_result"
    }
   ],
   "source": [
    "exhibitions_df[['xid', 'xpost_type']].drop_duplicates().xid.value_counts().head()"
   ]
  },
  {
   "cell_type": "code",
   "execution_count": 25,
   "metadata": {},
   "outputs": [
    {
     "data": {
      "text/html": [
       "<div>\n",
       "<style scoped>\n",
       "    .dataframe tbody tr th:only-of-type {\n",
       "        vertical-align: middle;\n",
       "    }\n",
       "\n",
       "    .dataframe tbody tr th {\n",
       "        vertical-align: top;\n",
       "    }\n",
       "\n",
       "    .dataframe thead th {\n",
       "        text-align: right;\n",
       "    }\n",
       "</style>\n",
       "<table border=\"1\" class=\"dataframe\">\n",
       "  <thead>\n",
       "    <tr style=\"text-align: right;\">\n",
       "      <th></th>\n",
       "      <th>ID</th>\n",
       "      <th>post_type</th>\n",
       "      <th>post_title</th>\n",
       "      <th>xkey</th>\n",
       "      <th>xid</th>\n",
       "      <th>xpost_type</th>\n",
       "      <th>xpost_title</th>\n",
       "    </tr>\n",
       "  </thead>\n",
       "  <tbody>\n",
       "    <tr>\n",
       "      <th>9349</th>\n",
       "      <td>101136</td>\n",
       "      <td>exposición</td>\n",
       "      <td>Barcelona and Modernity: Picasso, Gaudí, Miró,...</td>\n",
       "      <td>exposición de la que depende</td>\n",
       "      <td>-1</td>\n",
       "      <td>exposición</td>\n",
       "      <td>Desconocido</td>\n",
       "    </tr>\n",
       "    <tr>\n",
       "      <th>72622</th>\n",
       "      <td>114958</td>\n",
       "      <td>exposición</td>\n",
       "      <td>Youniverse</td>\n",
       "      <td>actor que participa como artista</td>\n",
       "      <td>-1</td>\n",
       "      <td>actor</td>\n",
       "      <td>Desconocido</td>\n",
       "    </tr>\n",
       "  </tbody>\n",
       "</table>\n",
       "</div>"
      ],
      "text/plain": [
       "           ID   post_type                                         post_title  \\\n",
       "9349   101136  exposición  Barcelona and Modernity: Picasso, Gaudí, Miró,...   \n",
       "72622  114958  exposición                                         Youniverse   \n",
       "\n",
       "                                   xkey  xid  xpost_type  xpost_title  \n",
       "9349       exposición de la que depende   -1  exposición  Desconocido  \n",
       "72622  actor que participa como artista   -1       actor  Desconocido  "
      ]
     },
     "execution_count": 25,
     "metadata": {},
     "output_type": "execute_result"
    }
   ],
   "source": [
    "exhibitions_df[exhibitions_df.xid == -1].drop_duplicates(['xid', 'xpost_type'])[important_columns]"
   ]
  },
  {
   "cell_type": "code",
   "execution_count": 26,
   "metadata": {},
   "outputs": [
    {
     "data": {
      "text/html": [
       "<div>\n",
       "<style scoped>\n",
       "    .dataframe tbody tr th:only-of-type {\n",
       "        vertical-align: middle;\n",
       "    }\n",
       "\n",
       "    .dataframe tbody tr th {\n",
       "        vertical-align: top;\n",
       "    }\n",
       "\n",
       "    .dataframe thead th {\n",
       "        text-align: right;\n",
       "    }\n",
       "</style>\n",
       "<table border=\"1\" class=\"dataframe\">\n",
       "  <thead>\n",
       "    <tr style=\"text-align: right;\">\n",
       "      <th></th>\n",
       "      <th>ID</th>\n",
       "      <th>post_type</th>\n",
       "      <th>post_title</th>\n",
       "      <th>xkey</th>\n",
       "      <th>xid</th>\n",
       "      <th>xpost_type</th>\n",
       "      <th>xpost_title</th>\n",
       "    </tr>\n",
       "  </thead>\n",
       "  <tbody>\n",
       "    <tr>\n",
       "      <th>40319</th>\n",
       "      <td>33188</td>\n",
       "      <td>exposición</td>\n",
       "      <td>La Ría de Vigo, en imágenes</td>\n",
       "      <td>actor que participa como artista</td>\n",
       "      <td>28487</td>\n",
       "      <td>actor</td>\n",
       "      <td>Desconocido</td>\n",
       "    </tr>\n",
       "    <tr>\n",
       "      <th>40320</th>\n",
       "      <td>33188</td>\n",
       "      <td>exposición</td>\n",
       "      <td>La Ría de Vigo, en imágenes</td>\n",
       "      <td>coleccionista prestatario de obras</td>\n",
       "      <td>28487</td>\n",
       "      <td>entidad</td>\n",
       "      <td>Desconocido</td>\n",
       "    </tr>\n",
       "  </tbody>\n",
       "</table>\n",
       "</div>"
      ],
      "text/plain": [
       "          ID   post_type                   post_title  \\\n",
       "40319  33188  exposición  La Ría de Vigo, en imágenes   \n",
       "40320  33188  exposición  La Ría de Vigo, en imágenes   \n",
       "\n",
       "                                     xkey    xid xpost_type  xpost_title  \n",
       "40319    actor que participa como artista  28487      actor  Desconocido  \n",
       "40320  coleccionista prestatario de obras  28487    entidad  Desconocido  "
      ]
     },
     "execution_count": 26,
     "metadata": {},
     "output_type": "execute_result"
    }
   ],
   "source": [
    "exhibitions_df[exhibitions_df.xid == 28487].drop_duplicates(['xid', 'xpost_type'])[important_columns]"
   ]
  },
  {
   "cell_type": "code",
   "execution_count": 27,
   "metadata": {},
   "outputs": [
    {
     "data": {
      "text/html": [
       "<div>\n",
       "<style scoped>\n",
       "    .dataframe tbody tr th:only-of-type {\n",
       "        vertical-align: middle;\n",
       "    }\n",
       "\n",
       "    .dataframe tbody tr th {\n",
       "        vertical-align: top;\n",
       "    }\n",
       "\n",
       "    .dataframe thead th {\n",
       "        text-align: right;\n",
       "    }\n",
       "</style>\n",
       "<table border=\"1\" class=\"dataframe\">\n",
       "  <thead>\n",
       "    <tr style=\"text-align: right;\">\n",
       "      <th></th>\n",
       "      <th>ID</th>\n",
       "      <th>post_type</th>\n",
       "      <th>post_title</th>\n",
       "      <th>xkey</th>\n",
       "      <th>xid</th>\n",
       "      <th>xpost_type</th>\n",
       "      <th>xpost_title</th>\n",
       "    </tr>\n",
       "  </thead>\n",
       "  <tbody>\n",
       "    <tr>\n",
       "      <th>1261</th>\n",
       "      <td>64681</td>\n",
       "      <td>exposición</td>\n",
       "      <td>10 años después: Post Emergencias en la Colecc...</td>\n",
       "      <td>entidad organizadora</td>\n",
       "      <td>743</td>\n",
       "      <td>entidad</td>\n",
       "      <td>Musac - Museo de Arte Contemporáneo de Castill...</td>\n",
       "    </tr>\n",
       "    <tr>\n",
       "      <th>29973</th>\n",
       "      <td>28113</td>\n",
       "      <td>exposición</td>\n",
       "      <td>Fondo A UA CRAG al muro</td>\n",
       "      <td>actor que participa como artista</td>\n",
       "      <td>743</td>\n",
       "      <td>actor</td>\n",
       "      <td>Musac - Museo de Arte Contemporáneo de Castill...</td>\n",
       "    </tr>\n",
       "  </tbody>\n",
       "</table>\n",
       "</div>"
      ],
      "text/plain": [
       "          ID   post_type                                         post_title  \\\n",
       "1261   64681  exposición  10 años después: Post Emergencias en la Colecc...   \n",
       "29973  28113  exposición                            Fondo A UA CRAG al muro   \n",
       "\n",
       "                                   xkey  xid xpost_type  \\\n",
       "1261               entidad organizadora  743    entidad   \n",
       "29973  actor que participa como artista  743      actor   \n",
       "\n",
       "                                             xpost_title  \n",
       "1261   Musac - Museo de Arte Contemporáneo de Castill...  \n",
       "29973  Musac - Museo de Arte Contemporáneo de Castill...  "
      ]
     },
     "execution_count": 27,
     "metadata": {},
     "output_type": "execute_result"
    }
   ],
   "source": [
    "exhibitions_df[exhibitions_df.xid == 743].drop_duplicates(['xid', 'xpost_type'])[important_columns]"
   ]
  },
  {
   "cell_type": "code",
   "execution_count": 51,
   "metadata": {},
   "outputs": [
    {
     "data": {
      "text/plain": [
       "False"
      ]
     },
     "execution_count": 51,
     "metadata": {},
     "output_type": "execute_result"
    }
   ],
   "source": [
    "1 in exhibitions_df.xid.unique()"
   ]
  },
  {
   "cell_type": "code",
   "execution_count": 52,
   "metadata": {},
   "outputs": [
    {
     "data": {
      "text/plain": [
       "False"
      ]
     },
     "execution_count": 52,
     "metadata": {},
     "output_type": "execute_result"
    }
   ],
   "source": [
    "2 in exhibitions_df.xid.unique()"
   ]
  },
  {
   "cell_type": "code",
   "execution_count": 53,
   "metadata": {},
   "outputs": [
    {
     "data": {
      "text/plain": [
       "False"
      ]
     },
     "execution_count": 53,
     "metadata": {},
     "output_type": "execute_result"
    }
   ],
   "source": [
    "1 in exhibitions_df.ID.unique()"
   ]
  },
  {
   "cell_type": "code",
   "execution_count": 54,
   "metadata": {},
   "outputs": [
    {
     "data": {
      "text/plain": [
       "False"
      ]
     },
     "execution_count": 54,
     "metadata": {},
     "output_type": "execute_result"
    }
   ],
   "source": [
    "2 in exhibitions_df.ID.unique()"
   ]
  },
  {
   "cell_type": "code",
   "execution_count": 45,
   "metadata": {},
   "outputs": [
    {
     "data": {
      "text/plain": [
       "False"
      ]
     },
     "execution_count": 45,
     "metadata": {},
     "output_type": "execute_result"
    }
   ],
   "source": [
    "284879 in exhibitions_df.ID.unique()"
   ]
  },
  {
   "cell_type": "code",
   "execution_count": 46,
   "metadata": {},
   "outputs": [
    {
     "data": {
      "text/plain": [
       "False"
      ]
     },
     "execution_count": 46,
     "metadata": {},
     "output_type": "execute_result"
    }
   ],
   "source": [
    "7439 in exhibitions_df.ID.unique()"
   ]
  },
  {
   "cell_type": "code",
   "execution_count": 43,
   "metadata": {},
   "outputs": [
    {
     "name": "stdout",
     "output_type": "stream",
     "text": [
      "-1\n"
     ]
    }
   ],
   "source": [
    "for x in  exhibitions_df.xid.unique():\n",
    "    if x<=0:\n",
    "        print(x)"
   ]
  },
  {
   "cell_type": "code",
   "execution_count": 34,
   "metadata": {},
   "outputs": [
    {
     "name": "stdout",
     "output_type": "stream",
     "text": [
      "CPU times: user 24.6 s, sys: 208 ms, total: 24.8 s\n",
      "Wall time: 24.8 s\n"
     ]
    }
   ],
   "source": [
    "%%time\n",
    "\n",
    "exhibitions_df2 = pd.read_excel('data/src/20180410_EXHIBITIONS.xlsx')\n",
    "exhibitions_df2.fillna('', inplace=True)"
   ]
  },
  {
   "cell_type": "code",
   "execution_count": 35,
   "metadata": {},
   "outputs": [
    {
     "data": {
      "text/plain": [
       "2"
      ]
     },
     "execution_count": 35,
     "metadata": {},
     "output_type": "execute_result"
    }
   ],
   "source": [
    "len(exhibitions_df2[exhibitions_df2.xid == -1][important_columns])"
   ]
  },
  {
   "cell_type": "code",
   "execution_count": 36,
   "metadata": {},
   "outputs": [
    {
     "data": {
      "text/plain": [
       "2"
      ]
     },
     "execution_count": 36,
     "metadata": {},
     "output_type": "execute_result"
    }
   ],
   "source": [
    "len(exhibitions_df2[exhibitions_df2.xid == 28487][important_columns])"
   ]
  },
  {
   "cell_type": "code",
   "execution_count": 37,
   "metadata": {},
   "outputs": [
    {
     "data": {
      "text/plain": [
       "164"
      ]
     },
     "execution_count": 37,
     "metadata": {},
     "output_type": "execute_result"
    }
   ],
   "source": [
    "len(exhibitions_df2[exhibitions_df2.xid == 743][important_columns])"
   ]
  },
  {
   "cell_type": "code",
   "execution_count": 47,
   "metadata": {},
   "outputs": [
    {
     "data": {
      "text/html": [
       "<div>\n",
       "<style scoped>\n",
       "    .dataframe tbody tr th:only-of-type {\n",
       "        vertical-align: middle;\n",
       "    }\n",
       "\n",
       "    .dataframe tbody tr th {\n",
       "        vertical-align: top;\n",
       "    }\n",
       "\n",
       "    .dataframe thead th {\n",
       "        text-align: right;\n",
       "    }\n",
       "</style>\n",
       "<table border=\"1\" class=\"dataframe\">\n",
       "  <thead>\n",
       "    <tr style=\"text-align: right;\">\n",
       "      <th></th>\n",
       "      <th>ID</th>\n",
       "      <th>post_type</th>\n",
       "      <th>post_title</th>\n",
       "      <th>xkey</th>\n",
       "      <th>xid</th>\n",
       "      <th>xpost_type</th>\n",
       "      <th>xpost_title</th>\n",
       "    </tr>\n",
       "  </thead>\n",
       "  <tbody>\n",
       "    <tr>\n",
       "      <th>1261</th>\n",
       "      <td>64681</td>\n",
       "      <td>exposición</td>\n",
       "      <td>10 años después: Post Emergencias en la Colecc...</td>\n",
       "      <td>entidad organizadora</td>\n",
       "      <td>743</td>\n",
       "      <td>entidad</td>\n",
       "      <td>Musac - Museo de Arte Contemporáneo de Castill...</td>\n",
       "    </tr>\n",
       "    <tr>\n",
       "      <th>1262</th>\n",
       "      <td>64681</td>\n",
       "      <td>exposición</td>\n",
       "      <td>10 años después: Post Emergencias en la Colecc...</td>\n",
       "      <td>fuente de información</td>\n",
       "      <td>743</td>\n",
       "      <td>entidad</td>\n",
       "      <td>Musac - Museo de Arte Contemporáneo de Castill...</td>\n",
       "    </tr>\n",
       "    <tr>\n",
       "      <th>3908</th>\n",
       "      <td>78672</td>\n",
       "      <td>exposición</td>\n",
       "      <td>Acortando distancias. Panorama asiático en la ...</td>\n",
       "      <td>entidad organizadora</td>\n",
       "      <td>743</td>\n",
       "      <td>entidad</td>\n",
       "      <td>Musac - Museo de Arte Contemporáneo de Castill...</td>\n",
       "    </tr>\n",
       "    <tr>\n",
       "      <th>3909</th>\n",
       "      <td>78672</td>\n",
       "      <td>exposición</td>\n",
       "      <td>Acortando distancias. Panorama asiático en la ...</td>\n",
       "      <td>fuente de información</td>\n",
       "      <td>743</td>\n",
       "      <td>entidad</td>\n",
       "      <td>Musac - Museo de Arte Contemporáneo de Castill...</td>\n",
       "    </tr>\n",
       "    <tr>\n",
       "      <th>4186</th>\n",
       "      <td>63894</td>\n",
       "      <td>exposición</td>\n",
       "      <td>After all, tomorrow is another day. Jorge Pineda</td>\n",
       "      <td>coleccionista prestatario de obras</td>\n",
       "      <td>743</td>\n",
       "      <td>entidad</td>\n",
       "      <td>Musac - Museo de Arte Contemporáneo de Castill...</td>\n",
       "    </tr>\n",
       "    <tr>\n",
       "      <th>4362</th>\n",
       "      <td>78442</td>\n",
       "      <td>exposición</td>\n",
       "      <td>Akram Zaatari. El molesto asunto</td>\n",
       "      <td>entidad organizadora</td>\n",
       "      <td>743</td>\n",
       "      <td>entidad</td>\n",
       "      <td>Musac - Museo de Arte Contemporáneo de Castill...</td>\n",
       "    </tr>\n",
       "    <tr>\n",
       "      <th>4363</th>\n",
       "      <td>78442</td>\n",
       "      <td>exposición</td>\n",
       "      <td>Akram Zaatari. El molesto asunto</td>\n",
       "      <td>fuente de información</td>\n",
       "      <td>743</td>\n",
       "      <td>entidad</td>\n",
       "      <td>Musac - Museo de Arte Contemporáneo de Castill...</td>\n",
       "    </tr>\n",
       "    <tr>\n",
       "      <th>4727</th>\n",
       "      <td>71579</td>\n",
       "      <td>exposición</td>\n",
       "      <td>All Yesterday’s Parties. Andy Warhol, música y...</td>\n",
       "      <td>entidad organizadora</td>\n",
       "      <td>743</td>\n",
       "      <td>entidad</td>\n",
       "      <td>Musac - Museo de Arte Contemporáneo de Castill...</td>\n",
       "    </tr>\n",
       "    <tr>\n",
       "      <th>4731</th>\n",
       "      <td>70829</td>\n",
       "      <td>exposición</td>\n",
       "      <td>All Yesterday's Parties. Andy Warhol, música y...</td>\n",
       "      <td>entidad organizadora</td>\n",
       "      <td>743</td>\n",
       "      <td>entidad</td>\n",
       "      <td>Musac - Museo de Arte Contemporáneo de Castill...</td>\n",
       "    </tr>\n",
       "    <tr>\n",
       "      <th>5191</th>\n",
       "      <td>78417</td>\n",
       "      <td>exposición</td>\n",
       "      <td>Amikejo. Iratxe Jaio y Klaas van Gorkum</td>\n",
       "      <td>entidad organizadora</td>\n",
       "      <td>743</td>\n",
       "      <td>entidad</td>\n",
       "      <td>Musac - Museo de Arte Contemporáneo de Castill...</td>\n",
       "    </tr>\n",
       "    <tr>\n",
       "      <th>5192</th>\n",
       "      <td>78417</td>\n",
       "      <td>exposición</td>\n",
       "      <td>Amikejo. Iratxe Jaio y Klaas van Gorkum</td>\n",
       "      <td>fuente de información</td>\n",
       "      <td>743</td>\n",
       "      <td>entidad</td>\n",
       "      <td>Musac - Museo de Arte Contemporáneo de Castill...</td>\n",
       "    </tr>\n",
       "    <tr>\n",
       "      <th>5196</th>\n",
       "      <td>78438</td>\n",
       "      <td>exposición</td>\n",
       "      <td>Amikejo. Pennachio Argentato</td>\n",
       "      <td>entidad organizadora</td>\n",
       "      <td>743</td>\n",
       "      <td>entidad</td>\n",
       "      <td>Musac - Museo de Arte Contemporáneo de Castill...</td>\n",
       "    </tr>\n",
       "    <tr>\n",
       "      <th>5197</th>\n",
       "      <td>78438</td>\n",
       "      <td>exposición</td>\n",
       "      <td>Amikejo. Pennachio Argentato</td>\n",
       "      <td>fuente de información</td>\n",
       "      <td>743</td>\n",
       "      <td>entidad</td>\n",
       "      <td>Musac - Museo de Arte Contemporáneo de Castill...</td>\n",
       "    </tr>\n",
       "    <tr>\n",
       "      <th>5202</th>\n",
       "      <td>78405</td>\n",
       "      <td>exposición</td>\n",
       "      <td>Amikejo. Uqbar Foundation</td>\n",
       "      <td>entidad organizadora</td>\n",
       "      <td>743</td>\n",
       "      <td>entidad</td>\n",
       "      <td>Musac - Museo de Arte Contemporáneo de Castill...</td>\n",
       "    </tr>\n",
       "    <tr>\n",
       "      <th>5203</th>\n",
       "      <td>78405</td>\n",
       "      <td>exposición</td>\n",
       "      <td>Amikejo. Uqbar Foundation</td>\n",
       "      <td>fuente de información</td>\n",
       "      <td>743</td>\n",
       "      <td>entidad</td>\n",
       "      <td>Musac - Museo de Arte Contemporáneo de Castill...</td>\n",
       "    </tr>\n",
       "    <tr>\n",
       "      <th>6184</th>\n",
       "      <td>78381</td>\n",
       "      <td>exposición</td>\n",
       "      <td>Archivo documental de Artistas de Castilla y León</td>\n",
       "      <td>entidad organizadora</td>\n",
       "      <td>743</td>\n",
       "      <td>entidad</td>\n",
       "      <td>Musac - Museo de Arte Contemporáneo de Castill...</td>\n",
       "    </tr>\n",
       "    <tr>\n",
       "      <th>6185</th>\n",
       "      <td>78381</td>\n",
       "      <td>exposición</td>\n",
       "      <td>Archivo documental de Artistas de Castilla y León</td>\n",
       "      <td>fuente de información</td>\n",
       "      <td>743</td>\n",
       "      <td>entidad</td>\n",
       "      <td>Musac - Museo de Arte Contemporáneo de Castill...</td>\n",
       "    </tr>\n",
       "    <tr>\n",
       "      <th>8735</th>\n",
       "      <td>32737</td>\n",
       "      <td>exposición</td>\n",
       "      <td>Auditorium/Display</td>\n",
       "      <td>entidad organizadora</td>\n",
       "      <td>743</td>\n",
       "      <td>entidad</td>\n",
       "      <td>Musac - Museo de Arte Contemporáneo de Castill...</td>\n",
       "    </tr>\n",
       "    <tr>\n",
       "      <th>8736</th>\n",
       "      <td>32737</td>\n",
       "      <td>exposición</td>\n",
       "      <td>Auditorium/Display</td>\n",
       "      <td>fuente de información</td>\n",
       "      <td>743</td>\n",
       "      <td>entidad</td>\n",
       "      <td>Musac - Museo de Arte Contemporáneo de Castill...</td>\n",
       "    </tr>\n",
       "    <tr>\n",
       "      <th>10731</th>\n",
       "      <td>78404</td>\n",
       "      <td>exposición</td>\n",
       "      <td>Cambio de paradigma. Colección Serralves años ...</td>\n",
       "      <td>entidad organizadora</td>\n",
       "      <td>743</td>\n",
       "      <td>entidad</td>\n",
       "      <td>Musac - Museo de Arte Contemporáneo de Castill...</td>\n",
       "    </tr>\n",
       "    <tr>\n",
       "      <th>10732</th>\n",
       "      <td>78404</td>\n",
       "      <td>exposición</td>\n",
       "      <td>Cambio de paradigma. Colección Serralves años ...</td>\n",
       "      <td>fuente de información</td>\n",
       "      <td>743</td>\n",
       "      <td>entidad</td>\n",
       "      <td>Musac - Museo de Arte Contemporáneo de Castill...</td>\n",
       "    </tr>\n",
       "    <tr>\n",
       "      <th>11170</th>\n",
       "      <td>78401</td>\n",
       "      <td>exposición</td>\n",
       "      <td>CAPITAL</td>\n",
       "      <td>entidad organizadora</td>\n",
       "      <td>743</td>\n",
       "      <td>entidad</td>\n",
       "      <td>Musac - Museo de Arte Contemporáneo de Castill...</td>\n",
       "    </tr>\n",
       "    <tr>\n",
       "      <th>11171</th>\n",
       "      <td>78401</td>\n",
       "      <td>exposición</td>\n",
       "      <td>CAPITAL</td>\n",
       "      <td>fuente de información</td>\n",
       "      <td>743</td>\n",
       "      <td>entidad</td>\n",
       "      <td>Musac - Museo de Arte Contemporáneo de Castill...</td>\n",
       "    </tr>\n",
       "    <tr>\n",
       "      <th>11452</th>\n",
       "      <td>27852</td>\n",
       "      <td>exposición</td>\n",
       "      <td>Carolee Schneemann: Obras de historia</td>\n",
       "      <td>entidad organizadora</td>\n",
       "      <td>743</td>\n",
       "      <td>entidad</td>\n",
       "      <td>Musac - Museo de Arte Contemporáneo de Castill...</td>\n",
       "    </tr>\n",
       "    <tr>\n",
       "      <th>11636</th>\n",
       "      <td>78667</td>\n",
       "      <td>exposición</td>\n",
       "      <td>Castillete. Retablo minero (El paisaje en desp...</td>\n",
       "      <td>entidad organizadora</td>\n",
       "      <td>743</td>\n",
       "      <td>entidad</td>\n",
       "      <td>Musac - Museo de Arte Contemporáneo de Castill...</td>\n",
       "    </tr>\n",
       "    <tr>\n",
       "      <th>11637</th>\n",
       "      <td>78667</td>\n",
       "      <td>exposición</td>\n",
       "      <td>Castillete. Retablo minero (El paisaje en desp...</td>\n",
       "      <td>fuente de información</td>\n",
       "      <td>743</td>\n",
       "      <td>entidad</td>\n",
       "      <td>Musac - Museo de Arte Contemporáneo de Castill...</td>\n",
       "    </tr>\n",
       "    <tr>\n",
       "      <th>12129</th>\n",
       "      <td>78363</td>\n",
       "      <td>exposición</td>\n",
       "      <td>CGEM: apuntes sobre la emancipación</td>\n",
       "      <td>entidad organizadora</td>\n",
       "      <td>743</td>\n",
       "      <td>entidad</td>\n",
       "      <td>Musac - Museo de Arte Contemporáneo de Castill...</td>\n",
       "    </tr>\n",
       "    <tr>\n",
       "      <th>12130</th>\n",
       "      <td>78363</td>\n",
       "      <td>exposición</td>\n",
       "      <td>CGEM: apuntes sobre la emancipación</td>\n",
       "      <td>fuente de información</td>\n",
       "      <td>743</td>\n",
       "      <td>entidad</td>\n",
       "      <td>Musac - Museo de Arte Contemporáneo de Castill...</td>\n",
       "    </tr>\n",
       "    <tr>\n",
       "      <th>12196</th>\n",
       "      <td>78662</td>\n",
       "      <td>exposición</td>\n",
       "      <td>Chatarra americana</td>\n",
       "      <td>entidad organizadora</td>\n",
       "      <td>743</td>\n",
       "      <td>entidad</td>\n",
       "      <td>Musac - Museo de Arte Contemporáneo de Castill...</td>\n",
       "    </tr>\n",
       "    <tr>\n",
       "      <th>12197</th>\n",
       "      <td>78662</td>\n",
       "      <td>exposición</td>\n",
       "      <td>Chatarra americana</td>\n",
       "      <td>fuente de información</td>\n",
       "      <td>743</td>\n",
       "      <td>entidad</td>\n",
       "      <td>Musac - Museo de Arte Contemporáneo de Castill...</td>\n",
       "    </tr>\n",
       "    <tr>\n",
       "      <th>...</th>\n",
       "      <td>...</td>\n",
       "      <td>...</td>\n",
       "      <td>...</td>\n",
       "      <td>...</td>\n",
       "      <td>...</td>\n",
       "      <td>...</td>\n",
       "      <td>...</td>\n",
       "    </tr>\n",
       "    <tr>\n",
       "      <th>63385</th>\n",
       "      <td>20654</td>\n",
       "      <td>exposición</td>\n",
       "      <td>Self-Timer Stories [Historias del autodisparador]</td>\n",
       "      <td>entidad organizadora</td>\n",
       "      <td>743</td>\n",
       "      <td>entidad</td>\n",
       "      <td>Musac - Museo de Arte Contemporáneo de Castill...</td>\n",
       "    </tr>\n",
       "    <tr>\n",
       "      <th>63387</th>\n",
       "      <td>20654</td>\n",
       "      <td>exposición</td>\n",
       "      <td>Self-Timer Stories [Historias del autodisparador]</td>\n",
       "      <td>fuente de información</td>\n",
       "      <td>743</td>\n",
       "      <td>entidad</td>\n",
       "      <td>Musac - Museo de Arte Contemporáneo de Castill...</td>\n",
       "    </tr>\n",
       "    <tr>\n",
       "      <th>64461</th>\n",
       "      <td>42735</td>\n",
       "      <td>exposición</td>\n",
       "      <td>Sombras del viento</td>\n",
       "      <td>entidad organizadora</td>\n",
       "      <td>743</td>\n",
       "      <td>entidad</td>\n",
       "      <td>Musac - Museo de Arte Contemporáneo de Castill...</td>\n",
       "    </tr>\n",
       "    <tr>\n",
       "      <th>65698</th>\n",
       "      <td>78653</td>\n",
       "      <td>exposición</td>\n",
       "      <td>Tal cual</td>\n",
       "      <td>entidad organizadora</td>\n",
       "      <td>743</td>\n",
       "      <td>entidad</td>\n",
       "      <td>Musac - Museo de Arte Contemporáneo de Castill...</td>\n",
       "    </tr>\n",
       "    <tr>\n",
       "      <th>65699</th>\n",
       "      <td>78653</td>\n",
       "      <td>exposición</td>\n",
       "      <td>Tal cual</td>\n",
       "      <td>fuente de información</td>\n",
       "      <td>743</td>\n",
       "      <td>entidad</td>\n",
       "      <td>Musac - Museo de Arte Contemporáneo de Castill...</td>\n",
       "    </tr>\n",
       "    <tr>\n",
       "      <th>67770</th>\n",
       "      <td>70840</td>\n",
       "      <td>exposición</td>\n",
       "      <td>TOC: una colección propia. Obsesividad compuls...</td>\n",
       "      <td>entidad organizadora</td>\n",
       "      <td>743</td>\n",
       "      <td>entidad</td>\n",
       "      <td>Musac - Museo de Arte Contemporáneo de Castill...</td>\n",
       "    </tr>\n",
       "    <tr>\n",
       "      <th>67917</th>\n",
       "      <td>28932</td>\n",
       "      <td>exposición</td>\n",
       "      <td>Todo, en parte. Publicaciones de artistas en l...</td>\n",
       "      <td>actor que participa como artista</td>\n",
       "      <td>743</td>\n",
       "      <td>entidad</td>\n",
       "      <td>Musac - Museo de Arte Contemporáneo de Castill...</td>\n",
       "    </tr>\n",
       "    <tr>\n",
       "      <th>67918</th>\n",
       "      <td>28932</td>\n",
       "      <td>exposición</td>\n",
       "      <td>Todo, en parte. Publicaciones de artistas en l...</td>\n",
       "      <td>entidad organizadora</td>\n",
       "      <td>743</td>\n",
       "      <td>entidad</td>\n",
       "      <td>Musac - Museo de Arte Contemporáneo de Castill...</td>\n",
       "    </tr>\n",
       "    <tr>\n",
       "      <th>68925</th>\n",
       "      <td>64539</td>\n",
       "      <td>exposición</td>\n",
       "      <td>TYIN tegnestue: en detalle</td>\n",
       "      <td>entidad organizadora</td>\n",
       "      <td>743</td>\n",
       "      <td>entidad</td>\n",
       "      <td>Musac - Museo de Arte Contemporáneo de Castill...</td>\n",
       "    </tr>\n",
       "    <tr>\n",
       "      <th>68926</th>\n",
       "      <td>64539</td>\n",
       "      <td>exposición</td>\n",
       "      <td>TYIN tegnestue: en detalle</td>\n",
       "      <td>fuente de información</td>\n",
       "      <td>743</td>\n",
       "      <td>entidad</td>\n",
       "      <td>Musac - Museo de Arte Contemporáneo de Castill...</td>\n",
       "    </tr>\n",
       "    <tr>\n",
       "      <th>69118</th>\n",
       "      <td>78425</td>\n",
       "      <td>exposición</td>\n",
       "      <td>Un editor independiente y libre se posiciona d...</td>\n",
       "      <td>entidad organizadora</td>\n",
       "      <td>743</td>\n",
       "      <td>entidad</td>\n",
       "      <td>Musac - Museo de Arte Contemporáneo de Castill...</td>\n",
       "    </tr>\n",
       "    <tr>\n",
       "      <th>69119</th>\n",
       "      <td>78425</td>\n",
       "      <td>exposición</td>\n",
       "      <td>Un editor independiente y libre se posiciona d...</td>\n",
       "      <td>fuente de información</td>\n",
       "      <td>743</td>\n",
       "      <td>entidad</td>\n",
       "      <td>Musac - Museo de Arte Contemporáneo de Castill...</td>\n",
       "    </tr>\n",
       "    <tr>\n",
       "      <th>69216</th>\n",
       "      <td>78431</td>\n",
       "      <td>exposición</td>\n",
       "      <td>Un modo de organización alrededor del vacío. B...</td>\n",
       "      <td>entidad organizadora</td>\n",
       "      <td>743</td>\n",
       "      <td>entidad</td>\n",
       "      <td>Musac - Museo de Arte Contemporáneo de Castill...</td>\n",
       "    </tr>\n",
       "    <tr>\n",
       "      <th>69217</th>\n",
       "      <td>78431</td>\n",
       "      <td>exposición</td>\n",
       "      <td>Un modo de organización alrededor del vacío. B...</td>\n",
       "      <td>fuente de información</td>\n",
       "      <td>743</td>\n",
       "      <td>entidad</td>\n",
       "      <td>Musac - Museo de Arte Contemporáneo de Castill...</td>\n",
       "    </tr>\n",
       "    <tr>\n",
       "      <th>69256</th>\n",
       "      <td>28435</td>\n",
       "      <td>exposición</td>\n",
       "      <td>Un número finito de acciones determinadas</td>\n",
       "      <td>entidad organizadora</td>\n",
       "      <td>743</td>\n",
       "      <td>entidad</td>\n",
       "      <td>Musac - Museo de Arte Contemporáneo de Castill...</td>\n",
       "    </tr>\n",
       "    <tr>\n",
       "      <th>69778</th>\n",
       "      <td>28423</td>\n",
       "      <td>exposición</td>\n",
       "      <td>Una pausa para reflexionar. Becas de producció...</td>\n",
       "      <td>entidad organizadora</td>\n",
       "      <td>743</td>\n",
       "      <td>entidad</td>\n",
       "      <td>Musac - Museo de Arte Contemporáneo de Castill...</td>\n",
       "    </tr>\n",
       "    <tr>\n",
       "      <th>69809</th>\n",
       "      <td>28939</td>\n",
       "      <td>exposición</td>\n",
       "      <td>Una posibilidad de escape</td>\n",
       "      <td>entidad organizadora</td>\n",
       "      <td>743</td>\n",
       "      <td>entidad</td>\n",
       "      <td>Musac - Museo de Arte Contemporáneo de Castill...</td>\n",
       "    </tr>\n",
       "    <tr>\n",
       "      <th>69810</th>\n",
       "      <td>28939</td>\n",
       "      <td>exposición</td>\n",
       "      <td>Una posibilidad de escape</td>\n",
       "      <td>fuente de información</td>\n",
       "      <td>743</td>\n",
       "      <td>entidad</td>\n",
       "      <td>Musac - Museo de Arte Contemporáneo de Castill...</td>\n",
       "    </tr>\n",
       "    <tr>\n",
       "      <th>69851</th>\n",
       "      <td>78659</td>\n",
       "      <td>exposición</td>\n",
       "      <td>Una sexta parte de la Tierra. Ecologías de la ...</td>\n",
       "      <td>entidad organizadora</td>\n",
       "      <td>743</td>\n",
       "      <td>entidad</td>\n",
       "      <td>Musac - Museo de Arte Contemporáneo de Castill...</td>\n",
       "    </tr>\n",
       "    <tr>\n",
       "      <th>69852</th>\n",
       "      <td>78659</td>\n",
       "      <td>exposición</td>\n",
       "      <td>Una sexta parte de la Tierra. Ecologías de la ...</td>\n",
       "      <td>fuente de información</td>\n",
       "      <td>743</td>\n",
       "      <td>entidad</td>\n",
       "      <td>Musac - Museo de Arte Contemporáneo de Castill...</td>\n",
       "    </tr>\n",
       "    <tr>\n",
       "      <th>70609</th>\n",
       "      <td>39186</td>\n",
       "      <td>exposición</td>\n",
       "      <td>Ver (re)velar. Usos y representaciones de lo i...</td>\n",
       "      <td>entidad organizadora</td>\n",
       "      <td>743</td>\n",
       "      <td>entidad</td>\n",
       "      <td>Musac - Museo de Arte Contemporáneo de Castill...</td>\n",
       "    </tr>\n",
       "    <tr>\n",
       "      <th>70610</th>\n",
       "      <td>39186</td>\n",
       "      <td>exposición</td>\n",
       "      <td>Ver (re)velar. Usos y representaciones de lo i...</td>\n",
       "      <td>fuente de información</td>\n",
       "      <td>743</td>\n",
       "      <td>entidad</td>\n",
       "      <td>Musac - Museo de Arte Contemporáneo de Castill...</td>\n",
       "    </tr>\n",
       "    <tr>\n",
       "      <th>71445</th>\n",
       "      <td>28989</td>\n",
       "      <td>exposición</td>\n",
       "      <td>Visita guiada: artista, museo, espectador</td>\n",
       "      <td>entidad organizadora</td>\n",
       "      <td>743</td>\n",
       "      <td>entidad</td>\n",
       "      <td>Musac - Museo de Arte Contemporáneo de Castill...</td>\n",
       "    </tr>\n",
       "    <tr>\n",
       "      <th>71446</th>\n",
       "      <td>28989</td>\n",
       "      <td>exposición</td>\n",
       "      <td>Visita guiada: artista, museo, espectador</td>\n",
       "      <td>fuente de información</td>\n",
       "      <td>743</td>\n",
       "      <td>entidad</td>\n",
       "      <td>Musac - Museo de Arte Contemporáneo de Castill...</td>\n",
       "    </tr>\n",
       "    <tr>\n",
       "      <th>71858</th>\n",
       "      <td>32756</td>\n",
       "      <td>exposición</td>\n",
       "      <td>Vues partielles, vistas parciales</td>\n",
       "      <td>entidad organizadora</td>\n",
       "      <td>743</td>\n",
       "      <td>entidad</td>\n",
       "      <td>Musac - Museo de Arte Contemporáneo de Castill...</td>\n",
       "    </tr>\n",
       "    <tr>\n",
       "      <th>71859</th>\n",
       "      <td>32756</td>\n",
       "      <td>exposición</td>\n",
       "      <td>Vues partielles, vistas parciales</td>\n",
       "      <td>fuente de información</td>\n",
       "      <td>743</td>\n",
       "      <td>entidad</td>\n",
       "      <td>Musac - Museo de Arte Contemporáneo de Castill...</td>\n",
       "    </tr>\n",
       "    <tr>\n",
       "      <th>71974</th>\n",
       "      <td>64498</td>\n",
       "      <td>exposición</td>\n",
       "      <td>We're All Dreamers</td>\n",
       "      <td>entidad organizadora</td>\n",
       "      <td>743</td>\n",
       "      <td>entidad</td>\n",
       "      <td>Musac - Museo de Arte Contemporáneo de Castill...</td>\n",
       "    </tr>\n",
       "    <tr>\n",
       "      <th>71975</th>\n",
       "      <td>64498</td>\n",
       "      <td>exposición</td>\n",
       "      <td>We're All Dreamers</td>\n",
       "      <td>fuente de información</td>\n",
       "      <td>743</td>\n",
       "      <td>entidad</td>\n",
       "      <td>Musac - Museo de Arte Contemporáneo de Castill...</td>\n",
       "    </tr>\n",
       "    <tr>\n",
       "      <th>72072</th>\n",
       "      <td>78398</td>\n",
       "      <td>exposición</td>\n",
       "      <td>Window to the World</td>\n",
       "      <td>entidad organizadora</td>\n",
       "      <td>743</td>\n",
       "      <td>entidad</td>\n",
       "      <td>Musac - Museo de Arte Contemporáneo de Castill...</td>\n",
       "    </tr>\n",
       "    <tr>\n",
       "      <th>72073</th>\n",
       "      <td>78398</td>\n",
       "      <td>exposición</td>\n",
       "      <td>Window to the World</td>\n",
       "      <td>fuente de información</td>\n",
       "      <td>743</td>\n",
       "      <td>entidad</td>\n",
       "      <td>Musac - Museo de Arte Contemporáneo de Castill...</td>\n",
       "    </tr>\n",
       "  </tbody>\n",
       "</table>\n",
       "<p>164 rows × 7 columns</p>\n",
       "</div>"
      ],
      "text/plain": [
       "          ID   post_type                                         post_title  \\\n",
       "1261   64681  exposición  10 años después: Post Emergencias en la Colecc...   \n",
       "1262   64681  exposición  10 años después: Post Emergencias en la Colecc...   \n",
       "3908   78672  exposición  Acortando distancias. Panorama asiático en la ...   \n",
       "3909   78672  exposición  Acortando distancias. Panorama asiático en la ...   \n",
       "4186   63894  exposición   After all, tomorrow is another day. Jorge Pineda   \n",
       "4362   78442  exposición                   Akram Zaatari. El molesto asunto   \n",
       "4363   78442  exposición                   Akram Zaatari. El molesto asunto   \n",
       "4727   71579  exposición  All Yesterday’s Parties. Andy Warhol, música y...   \n",
       "4731   70829  exposición  All Yesterday's Parties. Andy Warhol, música y...   \n",
       "5191   78417  exposición            Amikejo. Iratxe Jaio y Klaas van Gorkum   \n",
       "5192   78417  exposición            Amikejo. Iratxe Jaio y Klaas van Gorkum   \n",
       "5196   78438  exposición                       Amikejo. Pennachio Argentato   \n",
       "5197   78438  exposición                       Amikejo. Pennachio Argentato   \n",
       "5202   78405  exposición                          Amikejo. Uqbar Foundation   \n",
       "5203   78405  exposición                          Amikejo. Uqbar Foundation   \n",
       "6184   78381  exposición  Archivo documental de Artistas de Castilla y León   \n",
       "6185   78381  exposición  Archivo documental de Artistas de Castilla y León   \n",
       "8735   32737  exposición                                 Auditorium/Display   \n",
       "8736   32737  exposición                                 Auditorium/Display   \n",
       "10731  78404  exposición  Cambio de paradigma. Colección Serralves años ...   \n",
       "10732  78404  exposición  Cambio de paradigma. Colección Serralves años ...   \n",
       "11170  78401  exposición                                            CAPITAL   \n",
       "11171  78401  exposición                                            CAPITAL   \n",
       "11452  27852  exposición              Carolee Schneemann: Obras de historia   \n",
       "11636  78667  exposición  Castillete. Retablo minero (El paisaje en desp...   \n",
       "11637  78667  exposición  Castillete. Retablo minero (El paisaje en desp...   \n",
       "12129  78363  exposición                CGEM: apuntes sobre la emancipación   \n",
       "12130  78363  exposición                CGEM: apuntes sobre la emancipación   \n",
       "12196  78662  exposición                                 Chatarra americana   \n",
       "12197  78662  exposición                                 Chatarra americana   \n",
       "...      ...         ...                                                ...   \n",
       "63385  20654  exposición  Self-Timer Stories [Historias del autodisparador]   \n",
       "63387  20654  exposición  Self-Timer Stories [Historias del autodisparador]   \n",
       "64461  42735  exposición                                 Sombras del viento   \n",
       "65698  78653  exposición                                           Tal cual   \n",
       "65699  78653  exposición                                           Tal cual   \n",
       "67770  70840  exposición  TOC: una colección propia. Obsesividad compuls...   \n",
       "67917  28932  exposición  Todo, en parte. Publicaciones de artistas en l...   \n",
       "67918  28932  exposición  Todo, en parte. Publicaciones de artistas en l...   \n",
       "68925  64539  exposición                         TYIN tegnestue: en detalle   \n",
       "68926  64539  exposición                         TYIN tegnestue: en detalle   \n",
       "69118  78425  exposición  Un editor independiente y libre se posiciona d...   \n",
       "69119  78425  exposición  Un editor independiente y libre se posiciona d...   \n",
       "69216  78431  exposición  Un modo de organización alrededor del vacío. B...   \n",
       "69217  78431  exposición  Un modo de organización alrededor del vacío. B...   \n",
       "69256  28435  exposición          Un número finito de acciones determinadas   \n",
       "69778  28423  exposición  Una pausa para reflexionar. Becas de producció...   \n",
       "69809  28939  exposición                          Una posibilidad de escape   \n",
       "69810  28939  exposición                          Una posibilidad de escape   \n",
       "69851  78659  exposición  Una sexta parte de la Tierra. Ecologías de la ...   \n",
       "69852  78659  exposición  Una sexta parte de la Tierra. Ecologías de la ...   \n",
       "70609  39186  exposición  Ver (re)velar. Usos y representaciones de lo i...   \n",
       "70610  39186  exposición  Ver (re)velar. Usos y representaciones de lo i...   \n",
       "71445  28989  exposición          Visita guiada: artista, museo, espectador   \n",
       "71446  28989  exposición          Visita guiada: artista, museo, espectador   \n",
       "71858  32756  exposición                  Vues partielles, vistas parciales   \n",
       "71859  32756  exposición                  Vues partielles, vistas parciales   \n",
       "71974  64498  exposición                                 We're All Dreamers   \n",
       "71975  64498  exposición                                 We're All Dreamers   \n",
       "72072  78398  exposición                                Window to the World   \n",
       "72073  78398  exposición                                Window to the World   \n",
       "\n",
       "                                     xkey  xid xpost_type  \\\n",
       "1261                 entidad organizadora  743    entidad   \n",
       "1262                fuente de información  743    entidad   \n",
       "3908                 entidad organizadora  743    entidad   \n",
       "3909                fuente de información  743    entidad   \n",
       "4186   coleccionista prestatario de obras  743    entidad   \n",
       "4362                 entidad organizadora  743    entidad   \n",
       "4363                fuente de información  743    entidad   \n",
       "4727                 entidad organizadora  743    entidad   \n",
       "4731                 entidad organizadora  743    entidad   \n",
       "5191                 entidad organizadora  743    entidad   \n",
       "5192                fuente de información  743    entidad   \n",
       "5196                 entidad organizadora  743    entidad   \n",
       "5197                fuente de información  743    entidad   \n",
       "5202                 entidad organizadora  743    entidad   \n",
       "5203                fuente de información  743    entidad   \n",
       "6184                 entidad organizadora  743    entidad   \n",
       "6185                fuente de información  743    entidad   \n",
       "8735                 entidad organizadora  743    entidad   \n",
       "8736                fuente de información  743    entidad   \n",
       "10731                entidad organizadora  743    entidad   \n",
       "10732               fuente de información  743    entidad   \n",
       "11170                entidad organizadora  743    entidad   \n",
       "11171               fuente de información  743    entidad   \n",
       "11452                entidad organizadora  743    entidad   \n",
       "11636                entidad organizadora  743    entidad   \n",
       "11637               fuente de información  743    entidad   \n",
       "12129                entidad organizadora  743    entidad   \n",
       "12130               fuente de información  743    entidad   \n",
       "12196                entidad organizadora  743    entidad   \n",
       "12197               fuente de información  743    entidad   \n",
       "...                                   ...  ...        ...   \n",
       "63385                entidad organizadora  743    entidad   \n",
       "63387               fuente de información  743    entidad   \n",
       "64461                entidad organizadora  743    entidad   \n",
       "65698                entidad organizadora  743    entidad   \n",
       "65699               fuente de información  743    entidad   \n",
       "67770                entidad organizadora  743    entidad   \n",
       "67917    actor que participa como artista  743    entidad   \n",
       "67918                entidad organizadora  743    entidad   \n",
       "68925                entidad organizadora  743    entidad   \n",
       "68926               fuente de información  743    entidad   \n",
       "69118                entidad organizadora  743    entidad   \n",
       "69119               fuente de información  743    entidad   \n",
       "69216                entidad organizadora  743    entidad   \n",
       "69217               fuente de información  743    entidad   \n",
       "69256                entidad organizadora  743    entidad   \n",
       "69778                entidad organizadora  743    entidad   \n",
       "69809                entidad organizadora  743    entidad   \n",
       "69810               fuente de información  743    entidad   \n",
       "69851                entidad organizadora  743    entidad   \n",
       "69852               fuente de información  743    entidad   \n",
       "70609                entidad organizadora  743    entidad   \n",
       "70610               fuente de información  743    entidad   \n",
       "71445                entidad organizadora  743    entidad   \n",
       "71446               fuente de información  743    entidad   \n",
       "71858                entidad organizadora  743    entidad   \n",
       "71859               fuente de información  743    entidad   \n",
       "71974                entidad organizadora  743    entidad   \n",
       "71975               fuente de información  743    entidad   \n",
       "72072                entidad organizadora  743    entidad   \n",
       "72073               fuente de información  743    entidad   \n",
       "\n",
       "                                             xpost_title  \n",
       "1261   Musac - Museo de Arte Contemporáneo de Castill...  \n",
       "1262   Musac - Museo de Arte Contemporáneo de Castill...  \n",
       "3908   Musac - Museo de Arte Contemporáneo de Castill...  \n",
       "3909   Musac - Museo de Arte Contemporáneo de Castill...  \n",
       "4186   Musac - Museo de Arte Contemporáneo de Castill...  \n",
       "4362   Musac - Museo de Arte Contemporáneo de Castill...  \n",
       "4363   Musac - Museo de Arte Contemporáneo de Castill...  \n",
       "4727   Musac - Museo de Arte Contemporáneo de Castill...  \n",
       "4731   Musac - Museo de Arte Contemporáneo de Castill...  \n",
       "5191   Musac - Museo de Arte Contemporáneo de Castill...  \n",
       "5192   Musac - Museo de Arte Contemporáneo de Castill...  \n",
       "5196   Musac - Museo de Arte Contemporáneo de Castill...  \n",
       "5197   Musac - Museo de Arte Contemporáneo de Castill...  \n",
       "5202   Musac - Museo de Arte Contemporáneo de Castill...  \n",
       "5203   Musac - Museo de Arte Contemporáneo de Castill...  \n",
       "6184   Musac - Museo de Arte Contemporáneo de Castill...  \n",
       "6185   Musac - Museo de Arte Contemporáneo de Castill...  \n",
       "8735   Musac - Museo de Arte Contemporáneo de Castill...  \n",
       "8736   Musac - Museo de Arte Contemporáneo de Castill...  \n",
       "10731  Musac - Museo de Arte Contemporáneo de Castill...  \n",
       "10732  Musac - Museo de Arte Contemporáneo de Castill...  \n",
       "11170  Musac - Museo de Arte Contemporáneo de Castill...  \n",
       "11171  Musac - Museo de Arte Contemporáneo de Castill...  \n",
       "11452  Musac - Museo de Arte Contemporáneo de Castill...  \n",
       "11636  Musac - Museo de Arte Contemporáneo de Castill...  \n",
       "11637  Musac - Museo de Arte Contemporáneo de Castill...  \n",
       "12129  Musac - Museo de Arte Contemporáneo de Castill...  \n",
       "12130  Musac - Museo de Arte Contemporáneo de Castill...  \n",
       "12196  Musac - Museo de Arte Contemporáneo de Castill...  \n",
       "12197  Musac - Museo de Arte Contemporáneo de Castill...  \n",
       "...                                                  ...  \n",
       "63385  Musac - Museo de Arte Contemporáneo de Castill...  \n",
       "63387  Musac - Museo de Arte Contemporáneo de Castill...  \n",
       "64461  Musac - Museo de Arte Contemporáneo de Castill...  \n",
       "65698  Musac - Museo de Arte Contemporáneo de Castill...  \n",
       "65699  Musac - Museo de Arte Contemporáneo de Castill...  \n",
       "67770  Musac - Museo de Arte Contemporáneo de Castill...  \n",
       "67917  Musac - Museo de Arte Contemporáneo de Castill...  \n",
       "67918  Musac - Museo de Arte Contemporáneo de Castill...  \n",
       "68925  Musac - Museo de Arte Contemporáneo de Castill...  \n",
       "68926  Musac - Museo de Arte Contemporáneo de Castill...  \n",
       "69118  Musac - Museo de Arte Contemporáneo de Castill...  \n",
       "69119  Musac - Museo de Arte Contemporáneo de Castill...  \n",
       "69216  Musac - Museo de Arte Contemporáneo de Castill...  \n",
       "69217  Musac - Museo de Arte Contemporáneo de Castill...  \n",
       "69256  Musac - Museo de Arte Contemporáneo de Castill...  \n",
       "69778  Musac - Museo de Arte Contemporáneo de Castill...  \n",
       "69809  Musac - Museo de Arte Contemporáneo de Castill...  \n",
       "69810  Musac - Museo de Arte Contemporáneo de Castill...  \n",
       "69851  Musac - Museo de Arte Contemporáneo de Castill...  \n",
       "69852  Musac - Museo de Arte Contemporáneo de Castill...  \n",
       "70609  Musac - Museo de Arte Contemporáneo de Castill...  \n",
       "70610  Musac - Museo de Arte Contemporáneo de Castill...  \n",
       "71445  Musac - Museo de Arte Contemporáneo de Castill...  \n",
       "71446  Musac - Museo de Arte Contemporáneo de Castill...  \n",
       "71858  Musac - Museo de Arte Contemporáneo de Castill...  \n",
       "71859  Musac - Museo de Arte Contemporáneo de Castill...  \n",
       "71974  Musac - Museo de Arte Contemporáneo de Castill...  \n",
       "71975  Musac - Museo de Arte Contemporáneo de Castill...  \n",
       "72072  Musac - Museo de Arte Contemporáneo de Castill...  \n",
       "72073  Musac - Museo de Arte Contemporáneo de Castill...  \n",
       "\n",
       "[164 rows x 7 columns]"
      ]
     },
     "execution_count": 47,
     "metadata": {},
     "output_type": "execute_result"
    }
   ],
   "source": [
    "exhibitions_df2[exhibitions_df2.xid == 743][important_columns]"
   ]
  },
  {
   "cell_type": "code",
   "execution_count": null,
   "metadata": {},
   "outputs": [],
   "source": []
  },
  {
   "cell_type": "code",
   "execution_count": null,
   "metadata": {},
   "outputs": [],
   "source": []
  },
  {
   "cell_type": "code",
   "execution_count": null,
   "metadata": {},
   "outputs": [],
   "source": []
  },
  {
   "cell_type": "code",
   "execution_count": null,
   "metadata": {},
   "outputs": [],
   "source": []
  },
  {
   "cell_type": "code",
   "execution_count": null,
   "metadata": {},
   "outputs": [],
   "source": []
  },
  {
   "cell_type": "code",
   "execution_count": 12,
   "metadata": {},
   "outputs": [
    {
     "data": {
      "text/plain": [
       "actor         20106\n",
       "entidad        2918\n",
       "catálogo        681\n",
       "exposición      222\n",
       "empresa          13\n",
       "Name: xpost_type, dtype: int64"
      ]
     },
     "execution_count": 12,
     "metadata": {},
     "output_type": "execute_result"
    }
   ],
   "source": [
    "exhibitions_df.drop_duplicates('xid').xpost_type.value_counts()"
   ]
  },
  {
   "cell_type": "markdown",
   "metadata": {},
   "source": [
    "### Total number of relationships"
   ]
  },
  {
   "cell_type": "code",
   "execution_count": 9,
   "metadata": {},
   "outputs": [
    {
     "data": {
      "text/plain": [
       "actor que participa como artista      44420\n",
       "entidad organizadora                  11361\n",
       "fuente de información                  8969\n",
       "actor comisario                        3723\n",
       "entidad patrocinadora                  2019\n",
       "coleccionista prestatario de obras     1083\n",
       "catálogo                                712\n",
       "exposición de la que depende            423\n",
       "empresa que realiza la museografía       32\n",
       "Name: xkey, dtype: int64"
      ]
     },
     "execution_count": 9,
     "metadata": {},
     "output_type": "execute_result"
    }
   ],
   "source": [
    "exhibitions_df.xkey.value_counts()"
   ]
  },
  {
   "cell_type": "markdown",
   "metadata": {},
   "source": [
    "### Number of unique actors and genders"
   ]
  },
  {
   "cell_type": "code",
   "execution_count": 11,
   "metadata": {},
   "outputs": [
    {
     "data": {
      "text/plain": [
       "20108"
      ]
     },
     "execution_count": 11,
     "metadata": {},
     "output_type": "execute_result"
    }
   ],
   "source": [
    "exhibitions_df[exhibitions_df.xpost_type == 'actor'].xid.nunique()"
   ]
  },
  {
   "cell_type": "code",
   "execution_count": 11,
   "metadata": {},
   "outputs": [
    {
     "data": {
      "text/plain": [
       "20108"
      ]
     },
     "execution_count": 11,
     "metadata": {},
     "output_type": "execute_result"
    }
   ],
   "source": [
    "exhibitions_df[exhibitions_df.xpost_type == 'actor'].xid.nunique()"
   ]
  },
  {
   "cell_type": "code",
   "execution_count": 13,
   "metadata": {},
   "outputs": [
    {
     "data": {
      "text/plain": [
       "2919"
      ]
     },
     "execution_count": 13,
     "metadata": {},
     "output_type": "execute_result"
    }
   ],
   "source": [
    "exhibitions_df[exhibitions_df.xpost_type == 'entidad'].xid.nunique()"
   ]
  },
  {
   "cell_type": "markdown",
   "metadata": {},
   "source": [
    "### Same values for 'xplace_t', 'xplace_r', and 'xplace_c'"
   ]
  },
  {
   "cell_type": "code",
   "execution_count": 29,
   "metadata": {},
   "outputs": [],
   "source": [
    "a = b = c = 0\n",
    "for i, row in exhibitions_df.drop_duplicates('ID').iterrows():\n",
    "    if row['place_t'] == row['place_r'] == row['place_c']:\n",
    "        a += 1\n",
    "    else:\n",
    "        b += 1\n",
    "    c += 1"
   ]
  },
  {
   "cell_type": "code",
   "execution_count": 30,
   "metadata": {},
   "outputs": [
    {
     "data": {
      "text/plain": [
       "2"
      ]
     },
     "execution_count": 30,
     "metadata": {},
     "output_type": "execute_result"
    }
   ],
   "source": [
    "a"
   ]
  },
  {
   "cell_type": "code",
   "execution_count": 31,
   "metadata": {},
   "outputs": [
    {
     "data": {
      "text/plain": [
       "9575"
      ]
     },
     "execution_count": 31,
     "metadata": {},
     "output_type": "execute_result"
    }
   ],
   "source": [
    "b"
   ]
  },
  {
   "cell_type": "code",
   "execution_count": 32,
   "metadata": {},
   "outputs": [
    {
     "data": {
      "text/plain": [
       "9577"
      ]
     },
     "execution_count": 32,
     "metadata": {},
     "output_type": "execute_result"
    }
   ],
   "source": [
    "c"
   ]
  },
  {
   "cell_type": "code",
   "execution_count": 33,
   "metadata": {},
   "outputs": [],
   "source": [
    "a = b = c = 0\n",
    "correct_places = []\n",
    "incorrect_places = []\n",
    "for i, row in exhibitions_df.drop_duplicates('xid').iterrows():\n",
    "    if row['xplace_t'] == row['xplace_r'] == row['xplace_c']:\n",
    "        a += 1\n",
    "        incorrect_places.append(row['xpost_type'])\n",
    "    else:\n",
    "        b += 1\n",
    "        correct_places.append(row['xpost_type'])\n",
    "    c += 1"
   ]
  },
  {
   "cell_type": "code",
   "execution_count": 34,
   "metadata": {},
   "outputs": [
    {
     "data": {
      "text/plain": [
       "23940"
      ]
     },
     "execution_count": 34,
     "metadata": {},
     "output_type": "execute_result"
    }
   ],
   "source": [
    "c"
   ]
  },
  {
   "cell_type": "code",
   "execution_count": 35,
   "metadata": {},
   "outputs": [
    {
     "data": {
      "text/plain": [
       "20186"
      ]
     },
     "execution_count": 35,
     "metadata": {},
     "output_type": "execute_result"
    }
   ],
   "source": [
    "a"
   ]
  },
  {
   "cell_type": "code",
   "execution_count": 36,
   "metadata": {},
   "outputs": [
    {
     "data": {
      "text/plain": [
       "[('actor', 20106), ('catálogo', 45), ('entidad', 31), ('exposición', 4)]"
      ]
     },
     "execution_count": 36,
     "metadata": {},
     "output_type": "execute_result"
    }
   ],
   "source": [
    "Counter(incorrect_places).most_common()"
   ]
  },
  {
   "cell_type": "code",
   "execution_count": 37,
   "metadata": {},
   "outputs": [
    {
     "data": {
      "text/plain": [
       "3754"
      ]
     },
     "execution_count": 37,
     "metadata": {},
     "output_type": "execute_result"
    }
   ],
   "source": [
    "b"
   ]
  },
  {
   "cell_type": "code",
   "execution_count": 38,
   "metadata": {},
   "outputs": [
    {
     "data": {
      "text/plain": [
       "[('entidad', 2887), ('catálogo', 636), ('exposición', 218), ('empresa', 13)]"
      ]
     },
     "execution_count": 38,
     "metadata": {},
     "output_type": "execute_result"
    }
   ],
   "source": [
    "Counter(correct_places).most_common()"
   ]
  },
  {
   "cell_type": "code",
   "execution_count": 41,
   "metadata": {},
   "outputs": [],
   "source": [
    "a = b = c = 0\n",
    "exhibition_ids = exhibitions_df.ID.unique()\n",
    "for x in exhibitions_df[exhibitions_df.xpost_type == 'exposición'].xid.unique():\n",
    "    if x in exhibition_ids:\n",
    "        a += 1\n",
    "    else:\n",
    "        b += 1\n",
    "    c += 1"
   ]
  },
  {
   "cell_type": "code",
   "execution_count": 42,
   "metadata": {},
   "outputs": [
    {
     "data": {
      "text/plain": [
       "219"
      ]
     },
     "execution_count": 42,
     "metadata": {},
     "output_type": "execute_result"
    }
   ],
   "source": [
    "a"
   ]
  },
  {
   "cell_type": "code",
   "execution_count": 43,
   "metadata": {},
   "outputs": [
    {
     "data": {
      "text/plain": [
       "3"
      ]
     },
     "execution_count": 43,
     "metadata": {},
     "output_type": "execute_result"
    }
   ],
   "source": [
    "b"
   ]
  },
  {
   "cell_type": "code",
   "execution_count": 44,
   "metadata": {},
   "outputs": [
    {
     "data": {
      "text/plain": [
       "222"
      ]
     },
     "execution_count": 44,
     "metadata": {},
     "output_type": "execute_result"
    }
   ],
   "source": [
    "c"
   ]
  },
  {
   "cell_type": "markdown",
   "metadata": {},
   "source": [
    "## Saving data"
   ]
  },
  {
   "cell_type": "code",
   "execution_count": 45,
   "metadata": {},
   "outputs": [],
   "source": [
    "exhibitions_df.to_csv('data/out/exhibitions.csv', index=False)"
   ]
  },
  {
   "cell_type": "code",
   "execution_count": null,
   "metadata": {},
   "outputs": [],
   "source": []
  }
 ],
 "metadata": {
  "kernelspec": {
   "display_name": "Python 3",
   "language": "python",
   "name": "python3"
  },
  "language_info": {
   "codemirror_mode": {
    "name": "ipython",
    "version": 3
   },
   "file_extension": ".py",
   "mimetype": "text/x-python",
   "name": "python",
   "nbconvert_exporter": "python",
   "pygments_lexer": "ipython3",
   "version": "3.5.2"
  }
 },
 "nbformat": 4,
 "nbformat_minor": 2
}
