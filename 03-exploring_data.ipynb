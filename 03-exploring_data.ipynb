{
 "cells": [
  {
   "cell_type": "markdown",
   "metadata": {},
   "source": [
    "# Exhibitions"
   ]
  },
  {
   "cell_type": "code",
   "execution_count": 1,
   "metadata": {},
   "outputs": [],
   "source": [
    "from collections import Counter\n",
    "\n",
    "import pandas as pd"
   ]
  },
  {
   "cell_type": "markdown",
   "metadata": {},
   "source": [
    "## Loading data"
   ]
  },
  {
   "cell_type": "code",
   "execution_count": 5,
   "metadata": {},
   "outputs": [
    {
     "name": "stdout",
     "output_type": "stream",
     "text": [
      "CPU times: user 836 ms, sys: 180 ms, total: 1.02 s\n",
      "Wall time: 1.02 s\n"
     ]
    }
   ],
   "source": [
    "%%time\n",
    "\n",
    "exhibitions_df = pd.read_csv('data/out/exhibitions.csv')\n",
    "exhibitions_df.fillna('', inplace=True)"
   ]
  },
  {
   "cell_type": "code",
   "execution_count": 6,
   "metadata": {},
   "outputs": [
    {
     "data": {
      "text/plain": [
       "(72742, 26)"
      ]
     },
     "execution_count": 6,
     "metadata": {},
     "output_type": "execute_result"
    }
   ],
   "source": [
    "exhibitions_df.shape"
   ]
  },
  {
   "cell_type": "code",
   "execution_count": 7,
   "metadata": {},
   "outputs": [
    {
     "data": {
      "text/html": [
       "<div>\n",
       "<style scoped>\n",
       "    .dataframe tbody tr th:only-of-type {\n",
       "        vertical-align: middle;\n",
       "    }\n",
       "\n",
       "    .dataframe tbody tr th {\n",
       "        vertical-align: top;\n",
       "    }\n",
       "\n",
       "    .dataframe thead th {\n",
       "        text-align: right;\n",
       "    }\n",
       "</style>\n",
       "<table border=\"1\" class=\"dataframe\">\n",
       "  <thead>\n",
       "    <tr style=\"text-align: right;\">\n",
       "      <th></th>\n",
       "      <th>ID</th>\n",
       "      <th>post_type</th>\n",
       "      <th>post_title</th>\n",
       "      <th>place_t</th>\n",
       "      <th>place_r</th>\n",
       "      <th>place_c</th>\n",
       "      <th>start_y</th>\n",
       "      <th>start_m</th>\n",
       "      <th>start_d</th>\n",
       "      <th>end_y</th>\n",
       "      <th>...</th>\n",
       "      <th>xplace_t</th>\n",
       "      <th>xplace_r</th>\n",
       "      <th>xplace_c</th>\n",
       "      <th>xstart_y</th>\n",
       "      <th>xstart_m</th>\n",
       "      <th>xstart_d</th>\n",
       "      <th>xend_y</th>\n",
       "      <th>xend_m</th>\n",
       "      <th>xend_d</th>\n",
       "      <th>xgender</th>\n",
       "    </tr>\n",
       "  </thead>\n",
       "  <tbody>\n",
       "    <tr>\n",
       "      <th>0</th>\n",
       "      <td>117998</td>\n",
       "      <td>exposición</td>\n",
       "      <td>\"Elizabeth Blackwell\", Carmen Oliver</td>\n",
       "      <td>Granada</td>\n",
       "      <td>Andalucía</td>\n",
       "      <td>España</td>\n",
       "      <td>2017</td>\n",
       "      <td>3</td>\n",
       "      <td>1</td>\n",
       "      <td>2017</td>\n",
       "      <td>...</td>\n",
       "      <td>España</td>\n",
       "      <td>España</td>\n",
       "      <td>España</td>\n",
       "      <td>1985</td>\n",
       "      <td>1</td>\n",
       "      <td>1</td>\n",
       "      <td></td>\n",
       "      <td></td>\n",
       "      <td></td>\n",
       "      <td>Femenino</td>\n",
       "    </tr>\n",
       "    <tr>\n",
       "      <th>1</th>\n",
       "      <td>117998</td>\n",
       "      <td>exposición</td>\n",
       "      <td>\"Elizabeth Blackwell\", Carmen Oliver</td>\n",
       "      <td>Granada</td>\n",
       "      <td>Andalucía</td>\n",
       "      <td>España</td>\n",
       "      <td>2017</td>\n",
       "      <td>3</td>\n",
       "      <td>1</td>\n",
       "      <td>2017</td>\n",
       "      <td>...</td>\n",
       "      <td>Granada</td>\n",
       "      <td>Andalucía</td>\n",
       "      <td>España</td>\n",
       "      <td>2017</td>\n",
       "      <td>1</td>\n",
       "      <td>1</td>\n",
       "      <td></td>\n",
       "      <td></td>\n",
       "      <td></td>\n",
       "      <td></td>\n",
       "    </tr>\n",
       "    <tr>\n",
       "      <th>2</th>\n",
       "      <td>117998</td>\n",
       "      <td>exposición</td>\n",
       "      <td>\"Elizabeth Blackwell\", Carmen Oliver</td>\n",
       "      <td>Granada</td>\n",
       "      <td>Andalucía</td>\n",
       "      <td>España</td>\n",
       "      <td>2017</td>\n",
       "      <td>3</td>\n",
       "      <td>1</td>\n",
       "      <td>2017</td>\n",
       "      <td>...</td>\n",
       "      <td>Granada</td>\n",
       "      <td>Andalucía</td>\n",
       "      <td>España</td>\n",
       "      <td></td>\n",
       "      <td></td>\n",
       "      <td></td>\n",
       "      <td></td>\n",
       "      <td></td>\n",
       "      <td></td>\n",
       "      <td></td>\n",
       "    </tr>\n",
       "    <tr>\n",
       "      <th>3</th>\n",
       "      <td>117998</td>\n",
       "      <td>exposición</td>\n",
       "      <td>\"Elizabeth Blackwell\", Carmen Oliver</td>\n",
       "      <td>Granada</td>\n",
       "      <td>Andalucía</td>\n",
       "      <td>España</td>\n",
       "      <td>2017</td>\n",
       "      <td>3</td>\n",
       "      <td>1</td>\n",
       "      <td>2017</td>\n",
       "      <td>...</td>\n",
       "      <td>Granada</td>\n",
       "      <td>Andalucía</td>\n",
       "      <td>España</td>\n",
       "      <td></td>\n",
       "      <td></td>\n",
       "      <td></td>\n",
       "      <td></td>\n",
       "      <td></td>\n",
       "      <td></td>\n",
       "      <td></td>\n",
       "    </tr>\n",
       "    <tr>\n",
       "      <th>4</th>\n",
       "      <td>108998</td>\n",
       "      <td>exposición</td>\n",
       "      <td>\"European Masterworks. Paintings from the Coll...</td>\n",
       "      <td>Nashville</td>\n",
       "      <td>Tennessee</td>\n",
       "      <td>Estados Unidos</td>\n",
       "      <td>2001</td>\n",
       "      <td>4</td>\n",
       "      <td>8</td>\n",
       "      <td>2001</td>\n",
       "      <td>...</td>\n",
       "      <td>Francia</td>\n",
       "      <td>Francia</td>\n",
       "      <td>Francia</td>\n",
       "      <td>1840</td>\n",
       "      <td>11</td>\n",
       "      <td>14</td>\n",
       "      <td>1926</td>\n",
       "      <td>12</td>\n",
       "      <td>5</td>\n",
       "      <td>Masculino</td>\n",
       "    </tr>\n",
       "  </tbody>\n",
       "</table>\n",
       "<p>5 rows × 26 columns</p>\n",
       "</div>"
      ],
      "text/plain": [
       "       ID   post_type                                         post_title  \\\n",
       "0  117998  exposición               \"Elizabeth Blackwell\", Carmen Oliver   \n",
       "1  117998  exposición               \"Elizabeth Blackwell\", Carmen Oliver   \n",
       "2  117998  exposición               \"Elizabeth Blackwell\", Carmen Oliver   \n",
       "3  117998  exposición               \"Elizabeth Blackwell\", Carmen Oliver   \n",
       "4  108998  exposición  \"European Masterworks. Paintings from the Coll...   \n",
       "\n",
       "     place_t    place_r         place_c start_y start_m start_d end_y  \\\n",
       "0    Granada  Andalucía          España    2017       3       1  2017   \n",
       "1    Granada  Andalucía          España    2017       3       1  2017   \n",
       "2    Granada  Andalucía          España    2017       3       1  2017   \n",
       "3    Granada  Andalucía          España    2017       3       1  2017   \n",
       "4  Nashville  Tennessee  Estados Unidos    2001       4       8  2001   \n",
       "\n",
       "     ...     xplace_t   xplace_r xplace_c  xstart_y xstart_m xstart_d xend_y  \\\n",
       "0    ...       España     España   España      1985        1        1          \n",
       "1    ...      Granada  Andalucía   España      2017        1        1          \n",
       "2    ...      Granada  Andalucía   España                                      \n",
       "3    ...      Granada  Andalucía   España                                      \n",
       "4    ...      Francia    Francia  Francia      1840       11       14   1926   \n",
       "\n",
       "  xend_m xend_d    xgender  \n",
       "0                 Femenino  \n",
       "1                           \n",
       "2                           \n",
       "3                           \n",
       "4     12      5  Masculino  \n",
       "\n",
       "[5 rows x 26 columns]"
      ]
     },
     "execution_count": 7,
     "metadata": {},
     "output_type": "execute_result"
    }
   ],
   "source": [
    "exhibitions_df.head()"
   ]
  },
  {
   "cell_type": "markdown",
   "metadata": {},
   "source": [
    "## Cleaning data"
   ]
  },
  {
   "cell_type": "markdown",
   "metadata": {},
   "source": [
    "### Blank values in important columns"
   ]
  },
  {
   "cell_type": "code",
   "execution_count": 5,
   "metadata": {},
   "outputs": [],
   "source": [
    "important_columns = ['ID', 'post_type', 'post_title', 'xkey', 'xid', 'xpost_type']"
   ]
  },
  {
   "cell_type": "code",
   "execution_count": 6,
   "metadata": {},
   "outputs": [
    {
     "name": "stdout",
     "output_type": "stream",
     "text": [
      "xkey 4\n",
      "xid 4\n",
      "xpost_type 123\n"
     ]
    }
   ],
   "source": [
    "for c in important_columns:\n",
    "    counts = exhibitions_df[c].value_counts()\n",
    "    if '' in counts:\n",
    "        print(c, counts[''])"
   ]
  },
  {
   "cell_type": "code",
   "execution_count": 7,
   "metadata": {},
   "outputs": [
    {
     "data": {
      "text/html": [
       "<div>\n",
       "<style scoped>\n",
       "    .dataframe tbody tr th:only-of-type {\n",
       "        vertical-align: middle;\n",
       "    }\n",
       "\n",
       "    .dataframe tbody tr th {\n",
       "        vertical-align: top;\n",
       "    }\n",
       "\n",
       "    .dataframe thead th {\n",
       "        text-align: right;\n",
       "    }\n",
       "</style>\n",
       "<table border=\"1\" class=\"dataframe\">\n",
       "  <thead>\n",
       "    <tr style=\"text-align: right;\">\n",
       "      <th></th>\n",
       "      <th>ID</th>\n",
       "      <th>post_type</th>\n",
       "      <th>post_title</th>\n",
       "      <th>xkey</th>\n",
       "      <th>xid</th>\n",
       "      <th>xpost_type</th>\n",
       "    </tr>\n",
       "  </thead>\n",
       "  <tbody>\n",
       "    <tr>\n",
       "      <th>28829</th>\n",
       "      <td>105470</td>\n",
       "      <td>exposición</td>\n",
       "      <td>FAKE. No es verdad, no es mentira.</td>\n",
       "      <td></td>\n",
       "      <td></td>\n",
       "      <td></td>\n",
       "    </tr>\n",
       "    <tr>\n",
       "      <th>43194</th>\n",
       "      <td>109392</td>\n",
       "      <td>exposición</td>\n",
       "      <td>Los colegios exponen</td>\n",
       "      <td></td>\n",
       "      <td></td>\n",
       "      <td></td>\n",
       "    </tr>\n",
       "    <tr>\n",
       "      <th>66713</th>\n",
       "      <td>105469</td>\n",
       "      <td>exposición</td>\n",
       "      <td>Testigos de la ciudad</td>\n",
       "      <td></td>\n",
       "      <td></td>\n",
       "      <td></td>\n",
       "    </tr>\n",
       "    <tr>\n",
       "      <th>68122</th>\n",
       "      <td>109234</td>\n",
       "      <td>exposición</td>\n",
       "      <td>Trampa para Incautos</td>\n",
       "      <td></td>\n",
       "      <td></td>\n",
       "      <td></td>\n",
       "    </tr>\n",
       "  </tbody>\n",
       "</table>\n",
       "</div>"
      ],
      "text/plain": [
       "           ID   post_type                          post_title xkey xid  \\\n",
       "28829  105470  exposición  FAKE. No es verdad, no es mentira.            \n",
       "43194  109392  exposición                Los colegios exponen            \n",
       "66713  105469  exposición               Testigos de la ciudad            \n",
       "68122  109234  exposición                Trampa para Incautos            \n",
       "\n",
       "      xpost_type  \n",
       "28829             \n",
       "43194             \n",
       "66713             \n",
       "68122             "
      ]
     },
     "execution_count": 7,
     "metadata": {},
     "output_type": "execute_result"
    }
   ],
   "source": [
    "exhibitions_df[exhibitions_df.xkey == ''][important_columns]"
   ]
  },
  {
   "cell_type": "code",
   "execution_count": 8,
   "metadata": {},
   "outputs": [
    {
     "name": "stdout",
     "output_type": "stream",
     "text": [
      "105470 1\n",
      "109392 1\n",
      "105469 1\n",
      "109234 1\n"
     ]
    }
   ],
   "source": [
    "for ide in exhibitions_df[exhibitions_df.xkey == ''].ID:\n",
    "    print(ide, exhibitions_df.ID.value_counts()[ide])"
   ]
  },
  {
   "cell_type": "code",
   "execution_count": 9,
   "metadata": {},
   "outputs": [],
   "source": [
    "exhibitions_df = exhibitions_df[exhibitions_df.xkey != '']"
   ]
  },
  {
   "cell_type": "markdown",
   "metadata": {},
   "source": [
    "### Values for 'xkey' and 'xpost_type'"
   ]
  },
  {
   "cell_type": "code",
   "execution_count": 10,
   "metadata": {},
   "outputs": [
    {
     "data": {
      "text/html": [
       "<div>\n",
       "<style scoped>\n",
       "    .dataframe tbody tr th:only-of-type {\n",
       "        vertical-align: middle;\n",
       "    }\n",
       "\n",
       "    .dataframe tbody tr th {\n",
       "        vertical-align: top;\n",
       "    }\n",
       "\n",
       "    .dataframe thead th {\n",
       "        text-align: right;\n",
       "    }\n",
       "</style>\n",
       "<table border=\"1\" class=\"dataframe\">\n",
       "  <thead>\n",
       "    <tr style=\"text-align: right;\">\n",
       "      <th></th>\n",
       "      <th>xkey</th>\n",
       "      <th>xpost_type</th>\n",
       "    </tr>\n",
       "  </thead>\n",
       "  <tbody>\n",
       "    <tr>\n",
       "      <th>50190</th>\n",
       "      <td>actor comisario</td>\n",
       "      <td></td>\n",
       "    </tr>\n",
       "    <tr>\n",
       "      <th>13</th>\n",
       "      <td>actor comisario</td>\n",
       "      <td>actor</td>\n",
       "    </tr>\n",
       "    <tr>\n",
       "      <th>29974</th>\n",
       "      <td>actor que participa como artista</td>\n",
       "      <td>entidad</td>\n",
       "    </tr>\n",
       "    <tr>\n",
       "      <th>301</th>\n",
       "      <td>actor que participa como artista</td>\n",
       "      <td></td>\n",
       "    </tr>\n",
       "    <tr>\n",
       "      <th>0</th>\n",
       "      <td>actor que participa como artista</td>\n",
       "      <td>actor</td>\n",
       "    </tr>\n",
       "    <tr>\n",
       "      <th>1</th>\n",
       "      <td>catálogo</td>\n",
       "      <td>catálogo</td>\n",
       "    </tr>\n",
       "    <tr>\n",
       "      <th>8925</th>\n",
       "      <td>catálogo</td>\n",
       "      <td></td>\n",
       "    </tr>\n",
       "    <tr>\n",
       "      <th>2313</th>\n",
       "      <td>coleccionista prestatario de obras</td>\n",
       "      <td>actor</td>\n",
       "    </tr>\n",
       "    <tr>\n",
       "      <th>3253</th>\n",
       "      <td>coleccionista prestatario de obras</td>\n",
       "      <td></td>\n",
       "    </tr>\n",
       "    <tr>\n",
       "      <th>9</th>\n",
       "      <td>coleccionista prestatario de obras</td>\n",
       "      <td>entidad</td>\n",
       "    </tr>\n",
       "    <tr>\n",
       "      <th>1761</th>\n",
       "      <td>empresa que realiza la museografía</td>\n",
       "      <td>empresa</td>\n",
       "    </tr>\n",
       "    <tr>\n",
       "      <th>2</th>\n",
       "      <td>entidad organizadora</td>\n",
       "      <td>entidad</td>\n",
       "    </tr>\n",
       "    <tr>\n",
       "      <th>4609</th>\n",
       "      <td>entidad organizadora</td>\n",
       "      <td></td>\n",
       "    </tr>\n",
       "    <tr>\n",
       "      <th>16</th>\n",
       "      <td>entidad patrocinadora</td>\n",
       "      <td>entidad</td>\n",
       "    </tr>\n",
       "    <tr>\n",
       "      <th>1466</th>\n",
       "      <td>entidad patrocinadora</td>\n",
       "      <td></td>\n",
       "    </tr>\n",
       "    <tr>\n",
       "      <th>32</th>\n",
       "      <td>exposición de la que depende</td>\n",
       "      <td>exposición</td>\n",
       "    </tr>\n",
       "    <tr>\n",
       "      <th>9349</th>\n",
       "      <td>exposición de la que depende</td>\n",
       "      <td></td>\n",
       "    </tr>\n",
       "    <tr>\n",
       "      <th>3</th>\n",
       "      <td>fuente de información</td>\n",
       "      <td>entidad</td>\n",
       "    </tr>\n",
       "    <tr>\n",
       "      <th>4409</th>\n",
       "      <td>fuente de información</td>\n",
       "      <td></td>\n",
       "    </tr>\n",
       "  </tbody>\n",
       "</table>\n",
       "</div>"
      ],
      "text/plain": [
       "                                     xkey  xpost_type\n",
       "50190                     actor comisario            \n",
       "13                        actor comisario       actor\n",
       "29974    actor que participa como artista     entidad\n",
       "301      actor que participa como artista            \n",
       "0        actor que participa como artista       actor\n",
       "1                                catálogo    catálogo\n",
       "8925                             catálogo            \n",
       "2313   coleccionista prestatario de obras       actor\n",
       "3253   coleccionista prestatario de obras            \n",
       "9      coleccionista prestatario de obras     entidad\n",
       "1761   empresa que realiza la museografía     empresa\n",
       "2                    entidad organizadora     entidad\n",
       "4609                 entidad organizadora            \n",
       "16                  entidad patrocinadora     entidad\n",
       "1466                entidad patrocinadora            \n",
       "32           exposición de la que depende  exposición\n",
       "9349         exposición de la que depende            \n",
       "3                   fuente de información     entidad\n",
       "4409                fuente de información            "
      ]
     },
     "execution_count": 10,
     "metadata": {},
     "output_type": "execute_result"
    }
   ],
   "source": [
    "exhibitions_df[['xkey', 'xpost_type']].drop_duplicates().sort_values('xkey')"
   ]
  },
  {
   "cell_type": "code",
   "execution_count": 11,
   "metadata": {},
   "outputs": [
    {
     "data": {
      "text/plain": [
       "47"
      ]
     },
     "execution_count": 11,
     "metadata": {},
     "output_type": "execute_result"
    }
   ],
   "source": [
    "len(exhibitions_df[\n",
    "    (exhibitions_df.xkey == 'actor que participa como artista') &\n",
    "    (exhibitions_df.xpost_type == '')\n",
    "])"
   ]
  },
  {
   "cell_type": "code",
   "execution_count": 12,
   "metadata": {},
   "outputs": [
    {
     "data": {
      "text/plain": [
       "44371"
      ]
     },
     "execution_count": 12,
     "metadata": {},
     "output_type": "execute_result"
    }
   ],
   "source": [
    "len(exhibitions_df[\n",
    "    (exhibitions_df.xkey == 'actor que participa como artista') &\n",
    "    (exhibitions_df.xpost_type == 'actor')\n",
    "])"
   ]
  },
  {
   "cell_type": "code",
   "execution_count": 13,
   "metadata": {},
   "outputs": [
    {
     "data": {
      "text/plain": [
       "2"
      ]
     },
     "execution_count": 13,
     "metadata": {},
     "output_type": "execute_result"
    }
   ],
   "source": [
    "len(exhibitions_df[\n",
    "    (exhibitions_df.xkey == 'actor que participa como artista') &\n",
    "    (exhibitions_df.xpost_type == 'entidad')\n",
    "])"
   ]
  },
  {
   "cell_type": "code",
   "execution_count": 14,
   "metadata": {},
   "outputs": [
    {
     "data": {
      "text/plain": [
       "8"
      ]
     },
     "execution_count": 14,
     "metadata": {},
     "output_type": "execute_result"
    }
   ],
   "source": [
    "len(exhibitions_df[\n",
    "    (exhibitions_df.xkey == 'coleccionista prestatario de obras') &\n",
    "    (exhibitions_df.xpost_type == '')\n",
    "])"
   ]
  },
  {
   "cell_type": "code",
   "execution_count": 15,
   "metadata": {},
   "outputs": [
    {
     "data": {
      "text/plain": [
       "222"
      ]
     },
     "execution_count": 15,
     "metadata": {},
     "output_type": "execute_result"
    }
   ],
   "source": [
    "len(exhibitions_df[\n",
    "    (exhibitions_df.xkey == 'coleccionista prestatario de obras') &\n",
    "    (exhibitions_df.xpost_type == 'actor')\n",
    "])"
   ]
  },
  {
   "cell_type": "code",
   "execution_count": 16,
   "metadata": {},
   "outputs": [
    {
     "data": {
      "text/plain": [
       "853"
      ]
     },
     "execution_count": 16,
     "metadata": {},
     "output_type": "execute_result"
    }
   ],
   "source": [
    "len(exhibitions_df[\n",
    "    (exhibitions_df.xkey == 'coleccionista prestatario de obras') &\n",
    "    (exhibitions_df.xpost_type == 'entidad')\n",
    "])"
   ]
  },
  {
   "cell_type": "code",
   "execution_count": 17,
   "metadata": {},
   "outputs": [],
   "source": [
    "for i, row in exhibitions_df[exhibitions_df.xpost_type == ''].iterrows():\n",
    "    if row.xkey == 'actor comisario':\n",
    "        exhibitions_df.loc[i, 'xpost_type'] = 'actor'\n",
    "    elif row.xkey == 'actor que participa como artista':\n",
    "        exhibitions_df.loc[i, 'xpost_type'] = 'actor'\n",
    "    elif row.xkey == 'catálogo':\n",
    "        exhibitions_df.loc[i, 'xpost_type'] = 'catálogo'\n",
    "    elif row.xkey == 'coleccionista prestatario de obras':\n",
    "        exhibitions_df.loc[i, 'xpost_type'] = 'entidad'\n",
    "    elif row.xkey == 'empresa que realiza la museografía':\n",
    "        exhibitions_df.loc[i, 'xpost_type'] = 'empresa'\n",
    "    elif row.xkey == 'entidad organizadora':\n",
    "        exhibitions_df.loc[i, 'xpost_type'] = 'entidad'\n",
    "    elif row.xkey == 'entidad patrocinadora':\n",
    "        exhibitions_df.loc[i, 'xpost_type'] = 'entidad'\n",
    "    elif row.xkey == 'exposición de la que depende':\n",
    "        exhibitions_df.loc[i, 'xpost_type'] = 'exposición'\n",
    "    elif row.xkey == 'fuente de información':\n",
    "        exhibitions_df.loc[i, 'xpost_type'] = 'entidad'\n",
    "\n",
    "for i, row in exhibitions_df[\n",
    "    (exhibitions_df.xkey == 'actor que participa como artista') &\n",
    "    (exhibitions_df.xpost_type != 'actor')\n",
    "    ].iterrows():\n",
    "        exhibitions_df.loc[i, 'xpost_type'] = 'actor'"
   ]
  },
  {
   "cell_type": "markdown",
   "metadata": {},
   "source": [
    "### Gender"
   ]
  },
  {
   "cell_type": "code",
   "execution_count": 18,
   "metadata": {},
   "outputs": [
    {
     "data": {
      "text/plain": [
       "    24377\n",
       "Name: xgender, dtype: int64"
      ]
     },
     "execution_count": 18,
     "metadata": {},
     "output_type": "execute_result"
    }
   ],
   "source": [
    "exhibitions_df[exhibitions_df.xpost_type != 'actor'].xgender.value_counts()"
   ]
  },
  {
   "cell_type": "code",
   "execution_count": 19,
   "metadata": {},
   "outputs": [
    {
     "data": {
      "text/plain": [
       "Masculino       34031\n",
       "Femenino        10936\n",
       "No declarado     3348\n",
       "                   50\n",
       "Name: xgender, dtype: int64"
      ]
     },
     "execution_count": 19,
     "metadata": {},
     "output_type": "execute_result"
    }
   ],
   "source": [
    "exhibitions_df[exhibitions_df.xpost_type == 'actor'].xgender.value_counts()"
   ]
  },
  {
   "cell_type": "code",
   "execution_count": 20,
   "metadata": {},
   "outputs": [],
   "source": [
    "for i, row in exhibitions_df[\n",
    "    (exhibitions_df.xpost_type == 'actor') &\n",
    "    (exhibitions_df.xgender == '')\n",
    "    ].iterrows():\n",
    "        exhibitions_df.loc[i, 'xgender'] = 'No declarado'"
   ]
  },
  {
   "cell_type": "markdown",
   "metadata": {},
   "source": [
    "### Test"
   ]
  },
  {
   "cell_type": "code",
   "execution_count": 21,
   "metadata": {},
   "outputs": [],
   "source": [
    "for c in important_columns:\n",
    "    counts = exhibitions_df[c].value_counts()\n",
    "    if '' in counts:\n",
    "        print(c, counts[''])"
   ]
  },
  {
   "cell_type": "code",
   "execution_count": 22,
   "metadata": {},
   "outputs": [
    {
     "data": {
      "text/html": [
       "<div>\n",
       "<style scoped>\n",
       "    .dataframe tbody tr th:only-of-type {\n",
       "        vertical-align: middle;\n",
       "    }\n",
       "\n",
       "    .dataframe tbody tr th {\n",
       "        vertical-align: top;\n",
       "    }\n",
       "\n",
       "    .dataframe thead th {\n",
       "        text-align: right;\n",
       "    }\n",
       "</style>\n",
       "<table border=\"1\" class=\"dataframe\">\n",
       "  <thead>\n",
       "    <tr style=\"text-align: right;\">\n",
       "      <th></th>\n",
       "      <th>xkey</th>\n",
       "      <th>xpost_type</th>\n",
       "    </tr>\n",
       "  </thead>\n",
       "  <tbody>\n",
       "    <tr>\n",
       "      <th>13</th>\n",
       "      <td>actor comisario</td>\n",
       "      <td>actor</td>\n",
       "    </tr>\n",
       "    <tr>\n",
       "      <th>0</th>\n",
       "      <td>actor que participa como artista</td>\n",
       "      <td>actor</td>\n",
       "    </tr>\n",
       "    <tr>\n",
       "      <th>1</th>\n",
       "      <td>catálogo</td>\n",
       "      <td>catálogo</td>\n",
       "    </tr>\n",
       "    <tr>\n",
       "      <th>9</th>\n",
       "      <td>coleccionista prestatario de obras</td>\n",
       "      <td>entidad</td>\n",
       "    </tr>\n",
       "    <tr>\n",
       "      <th>2313</th>\n",
       "      <td>coleccionista prestatario de obras</td>\n",
       "      <td>actor</td>\n",
       "    </tr>\n",
       "    <tr>\n",
       "      <th>1761</th>\n",
       "      <td>empresa que realiza la museografía</td>\n",
       "      <td>empresa</td>\n",
       "    </tr>\n",
       "    <tr>\n",
       "      <th>2</th>\n",
       "      <td>entidad organizadora</td>\n",
       "      <td>entidad</td>\n",
       "    </tr>\n",
       "    <tr>\n",
       "      <th>16</th>\n",
       "      <td>entidad patrocinadora</td>\n",
       "      <td>entidad</td>\n",
       "    </tr>\n",
       "    <tr>\n",
       "      <th>32</th>\n",
       "      <td>exposición de la que depende</td>\n",
       "      <td>exposición</td>\n",
       "    </tr>\n",
       "    <tr>\n",
       "      <th>3</th>\n",
       "      <td>fuente de información</td>\n",
       "      <td>entidad</td>\n",
       "    </tr>\n",
       "  </tbody>\n",
       "</table>\n",
       "</div>"
      ],
      "text/plain": [
       "                                    xkey  xpost_type\n",
       "13                       actor comisario       actor\n",
       "0       actor que participa como artista       actor\n",
       "1                               catálogo    catálogo\n",
       "9     coleccionista prestatario de obras     entidad\n",
       "2313  coleccionista prestatario de obras       actor\n",
       "1761  empresa que realiza la museografía     empresa\n",
       "2                   entidad organizadora     entidad\n",
       "16                 entidad patrocinadora     entidad\n",
       "32          exposición de la que depende  exposición\n",
       "3                  fuente de información     entidad"
      ]
     },
     "execution_count": 22,
     "metadata": {},
     "output_type": "execute_result"
    }
   ],
   "source": [
    "exhibitions_df[['xkey', 'xpost_type']].drop_duplicates().sort_values('xkey')"
   ]
  },
  {
   "cell_type": "code",
   "execution_count": 23,
   "metadata": {},
   "outputs": [
    {
     "data": {
      "text/plain": [
       "Masculino       34031\n",
       "Femenino        10936\n",
       "No declarado     3398\n",
       "Name: xgender, dtype: int64"
      ]
     },
     "execution_count": 23,
     "metadata": {},
     "output_type": "execute_result"
    }
   ],
   "source": [
    "exhibitions_df[exhibitions_df.xpost_type == 'actor'].xgender.value_counts()"
   ]
  },
  {
   "cell_type": "markdown",
   "metadata": {},
   "source": [
    "## Exploring data"
   ]
  },
  {
   "cell_type": "markdown",
   "metadata": {},
   "source": [
    "### Unique values for each column"
   ]
  },
  {
   "cell_type": "code",
   "execution_count": 24,
   "metadata": {},
   "outputs": [
    {
     "name": "stdout",
     "output_type": "stream",
     "text": [
      "ID 9577\n",
      "post_type 1\n",
      "['exposición']\n",
      "post_title 9016\n",
      "place_t 806\n",
      "place_r 192\n",
      "place_c 55\n",
      "start_y 23\n",
      "start_m 13\n",
      "start_d 32\n",
      "end_y 26\n",
      "end_m 14\n",
      "end_d 33\n",
      "xkey 9\n",
      "['actor que participa como artista' 'catálogo' 'entidad organizadora'\n",
      " 'fuente de información' 'coleccionista prestatario de obras'\n",
      " 'actor comisario' 'entidad patrocinadora' 'exposición de la que depende'\n",
      " 'empresa que realiza la museografía']\n",
      "xid 23940\n",
      "xpost_type 5\n",
      "['actor' 'catálogo' 'entidad' 'exposición' 'empresa']\n",
      "xpost_title 23786\n",
      "xplace_t 1047\n",
      "xplace_r 369\n",
      "xplace_c 163\n",
      "xstart_y 574\n",
      "xstart_m 14\n",
      "xstart_d 33\n",
      "xend_y 528\n",
      "xend_m 14\n",
      "xend_d 33\n",
      "xgender 4\n",
      "['Femenino' '' 'Masculino' 'No declarado']\n"
     ]
    }
   ],
   "source": [
    "for c in exhibitions_df.columns:\n",
    "    n = exhibitions_df[c].nunique()\n",
    "    print(c, n)\n",
    "    if n <= 10:\n",
    "        print(exhibitions_df[c].unique())"
   ]
  },
  {
   "cell_type": "markdown",
   "metadata": {},
   "source": [
    "### Number of unique exhibitions"
   ]
  },
  {
   "cell_type": "code",
   "execution_count": 28,
   "metadata": {},
   "outputs": [
    {
     "data": {
      "text/plain": [
       "9577"
      ]
     },
     "execution_count": 28,
     "metadata": {},
     "output_type": "execute_result"
    }
   ],
   "source": [
    "exhibitions_df.ID.nunique()"
   ]
  },
  {
   "cell_type": "markdown",
   "metadata": {},
   "source": [
    "### Number of unique elements for each \"xpost_type\""
   ]
  },
  {
   "cell_type": "code",
   "execution_count": 25,
   "metadata": {},
   "outputs": [
    {
     "data": {
      "text/plain": [
       "actor         20106\n",
       "entidad        2918\n",
       "catálogo        681\n",
       "exposición      222\n",
       "empresa          13\n",
       "Name: xpost_type, dtype: int64"
      ]
     },
     "execution_count": 25,
     "metadata": {},
     "output_type": "execute_result"
    }
   ],
   "source": [
    "exhibitions_df.drop_duplicates('xid').xpost_type.value_counts()"
   ]
  },
  {
   "cell_type": "markdown",
   "metadata": {},
   "source": [
    "### Number of relationships"
   ]
  },
  {
   "cell_type": "code",
   "execution_count": 27,
   "metadata": {},
   "outputs": [
    {
     "data": {
      "text/plain": [
       "actor que participa como artista      44420\n",
       "entidad organizadora                  11361\n",
       "fuente de información                  8969\n",
       "actor comisario                        3723\n",
       "entidad patrocinadora                  2019\n",
       "coleccionista prestatario de obras     1083\n",
       "catálogo                                712\n",
       "exposición de la que depende            423\n",
       "empresa que realiza la museografía       32\n",
       "Name: xkey, dtype: int64"
      ]
     },
     "execution_count": 27,
     "metadata": {},
     "output_type": "execute_result"
    }
   ],
   "source": [
    "exhibitions_df.xkey.value_counts()"
   ]
  },
  {
   "cell_type": "markdown",
   "metadata": {},
   "source": [
    "### Same values for 'xplace_t', 'xplace_r', and 'xplace_c'"
   ]
  },
  {
   "cell_type": "code",
   "execution_count": 29,
   "metadata": {},
   "outputs": [],
   "source": [
    "a = b = c = 0\n",
    "for i, row in exhibitions_df.drop_duplicates('ID').iterrows():\n",
    "    if row['place_t'] == row['place_r'] == row['place_c']:\n",
    "        a += 1\n",
    "    else:\n",
    "        b += 1\n",
    "    c += 1"
   ]
  },
  {
   "cell_type": "code",
   "execution_count": 30,
   "metadata": {},
   "outputs": [
    {
     "data": {
      "text/plain": [
       "2"
      ]
     },
     "execution_count": 30,
     "metadata": {},
     "output_type": "execute_result"
    }
   ],
   "source": [
    "a"
   ]
  },
  {
   "cell_type": "code",
   "execution_count": 31,
   "metadata": {},
   "outputs": [
    {
     "data": {
      "text/plain": [
       "9575"
      ]
     },
     "execution_count": 31,
     "metadata": {},
     "output_type": "execute_result"
    }
   ],
   "source": [
    "b"
   ]
  },
  {
   "cell_type": "code",
   "execution_count": 32,
   "metadata": {},
   "outputs": [
    {
     "data": {
      "text/plain": [
       "9577"
      ]
     },
     "execution_count": 32,
     "metadata": {},
     "output_type": "execute_result"
    }
   ],
   "source": [
    "c"
   ]
  },
  {
   "cell_type": "code",
   "execution_count": 33,
   "metadata": {},
   "outputs": [],
   "source": [
    "a = b = c = 0\n",
    "correct_places = []\n",
    "incorrect_places = []\n",
    "for i, row in exhibitions_df.drop_duplicates('xid').iterrows():\n",
    "    if row['xplace_t'] == row['xplace_r'] == row['xplace_c']:\n",
    "        a += 1\n",
    "        incorrect_places.append(row['xpost_type'])\n",
    "    else:\n",
    "        b += 1\n",
    "        correct_places.append(row['xpost_type'])\n",
    "    c += 1"
   ]
  },
  {
   "cell_type": "code",
   "execution_count": 34,
   "metadata": {},
   "outputs": [
    {
     "data": {
      "text/plain": [
       "23940"
      ]
     },
     "execution_count": 34,
     "metadata": {},
     "output_type": "execute_result"
    }
   ],
   "source": [
    "c"
   ]
  },
  {
   "cell_type": "code",
   "execution_count": 35,
   "metadata": {},
   "outputs": [
    {
     "data": {
      "text/plain": [
       "20186"
      ]
     },
     "execution_count": 35,
     "metadata": {},
     "output_type": "execute_result"
    }
   ],
   "source": [
    "a"
   ]
  },
  {
   "cell_type": "code",
   "execution_count": 36,
   "metadata": {},
   "outputs": [
    {
     "data": {
      "text/plain": [
       "[('actor', 20106), ('catálogo', 45), ('entidad', 31), ('exposición', 4)]"
      ]
     },
     "execution_count": 36,
     "metadata": {},
     "output_type": "execute_result"
    }
   ],
   "source": [
    "Counter(incorrect_places).most_common()"
   ]
  },
  {
   "cell_type": "code",
   "execution_count": 37,
   "metadata": {},
   "outputs": [
    {
     "data": {
      "text/plain": [
       "3754"
      ]
     },
     "execution_count": 37,
     "metadata": {},
     "output_type": "execute_result"
    }
   ],
   "source": [
    "b"
   ]
  },
  {
   "cell_type": "code",
   "execution_count": 38,
   "metadata": {},
   "outputs": [
    {
     "data": {
      "text/plain": [
       "[('entidad', 2887), ('catálogo', 636), ('exposición', 218), ('empresa', 13)]"
      ]
     },
     "execution_count": 38,
     "metadata": {},
     "output_type": "execute_result"
    }
   ],
   "source": [
    "Counter(correct_places).most_common()"
   ]
  },
  {
   "cell_type": "code",
   "execution_count": 41,
   "metadata": {},
   "outputs": [],
   "source": [
    "a = b = c = 0\n",
    "exhibition_ids = exhibitions_df.ID.unique()\n",
    "for x in exhibitions_df[exhibitions_df.xpost_type == 'exposición'].xid.unique():\n",
    "    if x in exhibition_ids:\n",
    "        a += 1\n",
    "    else:\n",
    "        b += 1\n",
    "    c += 1"
   ]
  },
  {
   "cell_type": "code",
   "execution_count": 42,
   "metadata": {},
   "outputs": [
    {
     "data": {
      "text/plain": [
       "219"
      ]
     },
     "execution_count": 42,
     "metadata": {},
     "output_type": "execute_result"
    }
   ],
   "source": [
    "a"
   ]
  },
  {
   "cell_type": "code",
   "execution_count": 43,
   "metadata": {},
   "outputs": [
    {
     "data": {
      "text/plain": [
       "3"
      ]
     },
     "execution_count": 43,
     "metadata": {},
     "output_type": "execute_result"
    }
   ],
   "source": [
    "b"
   ]
  },
  {
   "cell_type": "code",
   "execution_count": 44,
   "metadata": {},
   "outputs": [
    {
     "data": {
      "text/plain": [
       "222"
      ]
     },
     "execution_count": 44,
     "metadata": {},
     "output_type": "execute_result"
    }
   ],
   "source": [
    "c"
   ]
  },
  {
   "cell_type": "markdown",
   "metadata": {},
   "source": [
    "## Saving data"
   ]
  },
  {
   "cell_type": "code",
   "execution_count": 45,
   "metadata": {},
   "outputs": [],
   "source": [
    "exhibitions_df.to_csv('data/out/exhibitions.csv', index=False)"
   ]
  },
  {
   "cell_type": "code",
   "execution_count": null,
   "metadata": {},
   "outputs": [],
   "source": []
  }
 ],
 "metadata": {
  "kernelspec": {
   "display_name": "Python 3",
   "language": "python",
   "name": "python3"
  },
  "language_info": {
   "codemirror_mode": {
    "name": "ipython",
    "version": 3
   },
   "file_extension": ".py",
   "mimetype": "text/x-python",
   "name": "python",
   "nbconvert_exporter": "python",
   "pygments_lexer": "ipython3",
   "version": "3.5.2"
  }
 },
 "nbformat": 4,
 "nbformat_minor": 2
}
